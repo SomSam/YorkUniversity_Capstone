{
 "cells": [
  {
   "cell_type": "markdown",
   "metadata": {},
   "source": [
    "<center>\n",
    "    \n",
    "# CAPSTONE PROJECT\n",
    "\n",
    "## eCommerce & Retail Analytics\n",
    "\n",
    "</center>"
   ]
  },
  {
   "cell_type": "markdown",
   "metadata": {},
   "source": [
    "### Client\n",
    "* True North Groceries (TNG) is an online grocery retailer that sells a wide variety of fresh, frozen, and non-perishable groceries and food products through their mobile app and website. They believe leveraging data and analytics will be foundational to their long-term success and that it can no longer be something that’s delivered by non-analytics professionals at the side of their desks. TMG is interested in hiring your firm to help them build-out the company’s analytics practice; however, they would like to try before they buy and have asked for your company to deliver a proof-of-concept to showcase your firm’s ability to deliver incremental value through data and analytics.<br>\n",
    "\n",
    "### Your Task\n",
    "* Your tasks is to understand your client’s business and operating model, identify where analytics could be applied to make better decisions, and finally deliver a proof-of-concept solution for to a few of business opportunities and challenges they face. <br>\n",
    "* **Path-to-purchase Personalized Product Recommendations:** The idea here is to recommend products to customers as they browse our mobile app and desktop platforms. These recommendations should be ideally a function of what product(s) a customer is currently browsing during their shopping session. For example, if a client just added Heinz Ketchup to their basket, the app might recommend that they purchase Mustard as well.\n",
    "<br>\n",
    "* **“Buy it again” Product Recommendations:** Another important product feature that TNG is looking to add is a “Buy It Again” email. Some analysis conducted by TMG showed that customers with a high number of repeat purchases tend to be significantly more profitable and less likely to attrite than the average customer. As such TMG has devised a strategy to grow this segment through the use of personalized outbound email marketing. For example, if it looks like a customer tends to purchases Laundry Detergent every 3-4 weeks, can we send them a proactive email? Thinking along these, one could also understand which items are frequently re-purchased and the time between purchases to inform decisions as early as possible (without having to wait several weeks to detect that a client tends to purchase Laundry Detergent every 3-4 weeks).\n",
    "<br>"
   ]
  },
  {
   "cell_type": "markdown",
   "metadata": {},
   "source": [
    "## <center> <font color=red>1. DATA UNDERSTANDING</font> </center>"
   ]
  },
  {
   "cell_type": "markdown",
   "metadata": {},
   "source": [
    "### Datasets\n",
    "\n",
    "|Dataset                | Description\n",
    "|:---                   | :---\n",
    "|departments            | List of departments at True North Groceries\n",
    "|aisles                 | List of aisles\n",
    "|products               | List of products. We have approximately 50,000 products\n",
    "|orders                 | Details for all the Orders placed by Customers. We have 3,421,083 orders.\n",
    "|order_products_prior   | This table details all the products in each of the order and has an indicator for if it’s a reorder.\n",
    "\n",
    "### ER Diagram\n",
    "\n",
    "<img src=\"erd.jpg\">"
   ]
  },
  {
   "cell_type": "markdown",
   "metadata": {},
   "source": [
    "## <center> <font color=red>2. DATA EXPLORATION</font> </center>\n",
    "\n",
    "#### The data prep stage is to:\n",
    "> a. Get Rid of bad columns from the dataframes. These were imported from the file.\n",
    "\n",
    "> b. Check for duplicate rows, ids or any variables that should be unique. For example, name of department\n",
    "\n",
    "> c. Check for bad data or characters in any of the name fields. Such as product_name\n",
    "\n",
    "> d. Identify missing values \n",
    "\n",
    "> e. Check referential integrity between the entities\n",
    "\n",
    "> f. Create a denormalized dataframe by merging departments, aisles, products\n",
    "\n",
    "> g. Create a denormalized dataframe by merging deparments, aisles, products, orders, order_product_prior\n"
   ]
  },
  {
   "cell_type": "code",
   "execution_count": null,
   "metadata": {},
   "outputs": [],
   "source": [
    "library(arules)\n",
    "library(arulesViz)\n",
    "library(tidyverse)\n",
    "library(readxl)\n",
    "library(plyr)\n",
    "library(ggplot2)\n",
    "library(knitr)\n",
    "library(lubridate)\n",
    "library(RColorBrewer)\n",
    "library(Amelia) # For missing values\n",
    "library(sqldf)\n",
    "library(data.table)\n",
    "library(dplyr)"
   ]
  },
  {
   "cell_type": "code",
   "execution_count": 2,
   "metadata": {},
   "outputs": [],
   "source": [
    "setwd(\"C:\\\\Users\\\\somsa\\\\Documents\\\\Trainings\\\\York_University\\\\1_BigDataAnalytics\\\\CSDA1050 Advanced Analytics Capstone Course\\\\Capstone Project\\\\OriginalDataset\\\\\")\n",
    "\n",
    "\n",
    "######################################################################################\n",
    "#####################   IMPORT AND BROWSE DATASETS for PROJECT  ######################\n",
    "##### This round of data exploration is just to check structure, etc         #########\n",
    "######################################################################################\n",
    "\n",
    "departments <- read.csv(\"departments.csv\", header=TRUE, na=c(\"\"))\n",
    "aisles <- read.csv(\"aisles.csv\", header=TRUE, na=c(\"\"))\n",
    "products <- read.csv(\"products_subset.csv\", header=TRUE, na=c(\"\"), encoding=\"UTF-8\")\n",
    "orders <- read.csv(\"orders.csv\", header=TRUE, na=c(\"\"))\n",
    "order_products_prior <- read.csv(\"Capstone 1_Data Set-order_products__prior.csv\", header=TRUE, na=c(\"\"))"
   ]
  },
  {
   "cell_type": "code",
   "execution_count": 7,
   "metadata": {},
   "outputs": [
    {
     "name": "stdout",
     "output_type": "stream",
     "text": [
      "[1] \"Departments:\"\n"
     ]
    },
    {
     "data": {
      "text/plain": [
       "\n",
       "\n",
       "| department_id|department    |\n",
       "|-------------:|:-------------|\n",
       "|             1|frozen        |\n",
       "|             2|other         |\n",
       "|             3|bakery        |\n",
       "|             4|produce       |\n",
       "|             5|alcohol       |\n",
       "|             6|international |"
      ]
     },
     "metadata": {},
     "output_type": "display_data"
    },
    {
     "name": "stdout",
     "output_type": "stream",
     "text": [
      "[1] \"Aisles:\"\n"
     ]
    },
    {
     "data": {
      "text/plain": [
       "\n",
       "\n",
       "| aisle_id|aisle                      |\n",
       "|--------:|:--------------------------|\n",
       "|        1|PREPARED SOUPS SALADS      |\n",
       "|        2|specialty cheeses          |\n",
       "|        3|energy granola bars        |\n",
       "|        4|INSTANT FOODS              |\n",
       "|        5|marinades meat preparation |\n",
       "|        6|OTHER                      |"
      ]
     },
     "metadata": {},
     "output_type": "display_data"
    },
    {
     "name": "stdout",
     "output_type": "stream",
     "text": [
      "[1] \"Products:\"\n"
     ]
    },
    {
     "data": {
      "text/plain": [
       "\n",
       "\n",
       "| row_num| product_id|product_name                                                      | aisle_id| department_id|X  |X.1 |X.2 |X.3 |X.4 |X.5 |\n",
       "|-------:|----------:|:-----------------------------------------------------------------|--------:|-------------:|:--|:---|:---|:---|:---|:---|\n",
       "|       0|          1|Chocolate Sandwich Cookies                                        |       61|            19|NA |NA  |NA  |NA  |NA  |NA  |\n",
       "|       1|          2|All-Seasons Salt                                                  |      104|            13|NA |NA  |NA  |NA  |NA  |NA  |\n",
       "|       2|          3|Robust Golden Unsweetened Oolong Tea                              |       94|             7|NA |NA  |NA  |NA  |NA  |NA  |\n",
       "|       3|          4|Smart Ones Classic Favorites Mini Rigatoni With Vodka Cream Sauce |       38|             1|NA |NA  |NA  |NA  |NA  |NA  |\n",
       "|       4|          5|Green Chile Anytime Sauce                                         |        5|            13|NA |NA  |NA  |NA  |NA  |NA  |\n",
       "|       5|          6|Dry Nose Oil                                                      |       11|            11|NA |NA  |NA  |NA  |NA  |NA  |"
      ]
     },
     "metadata": {},
     "output_type": "display_data"
    },
    {
     "name": "stdout",
     "output_type": "stream",
     "text": [
      "[1] \"Orders:\"\n"
     ]
    },
    {
     "data": {
      "text/plain": [
       "\n",
       "\n",
       "| order_id| user_id|eval_set | order_number| order_dow| order_hour_of_day| days_since_prior_order|\n",
       "|--------:|-------:|:--------|------------:|---------:|-----------------:|----------------------:|\n",
       "|  2539329|       1|prior    |            1|         2|                 8|                     NA|\n",
       "|  2398795|       1|prior    |            2|         3|                 7|                     15|\n",
       "|   473747|       1|prior    |            3|         3|                12|                     21|\n",
       "|  2254736|       1|prior    |            4|         4|                 7|                     29|\n",
       "|   431534|       1|prior    |            5|         4|                15|                     28|\n",
       "|  3367565|       1|prior    |            6|         2|                 7|                     19|"
      ]
     },
     "metadata": {},
     "output_type": "display_data"
    },
    {
     "name": "stdout",
     "output_type": "stream",
     "text": [
      "[1] \"Order_Products:\"\n"
     ]
    },
    {
     "data": {
      "text/plain": [
       "\n",
       "\n",
       "|  X| order_id| product_id| add_to_cart_order| reordered|\n",
       "|--:|--------:|----------:|-----------------:|---------:|\n",
       "|  0|        2|      33120|                 1|         1|\n",
       "|  1|        2|      28985|                 2|         1|\n",
       "|  2|        2|       9327|                 3|         0|\n",
       "|  3|        2|      45918|                 4|         1|\n",
       "|  4|        2|      30035|                 5|         0|\n",
       "|  5|        2|      17794|                 6|         1|"
      ]
     },
     "metadata": {},
     "output_type": "display_data"
    }
   ],
   "source": [
    "#### 1. Departments\n",
    "\n",
    "# We have 21 departments\n",
    "print (\"Departments:\")\n",
    "#print(str(departments))\n",
    "\n",
    "#print(dim(departments))\n",
    "\n",
    "#print(head(departments, 3))\n",
    "\n",
    "#print(names(departments))\n",
    "\n",
    "kable(head(departments))\n",
    "\n",
    "\n",
    "\n",
    "#### 2. Aisles\n",
    "\n",
    "# We have 134 isles\n",
    "\n",
    "print (\"Aisles:\")\n",
    "#print(str(aisles))\n",
    "\n",
    "#print(dim(aisles))\n",
    "\n",
    "#print(head(aisles, 3))\n",
    "\n",
    "#print(names(aisles))\n",
    "\n",
    "kable(head(aisles))\n",
    "\n",
    "#### 3. Products\n",
    "\n",
    "# We have 48,170 Products\n",
    "# We have a few extra columns. row_num - We don't need. And a few more columns at the end which are not required.\n",
    "# We will get rid of those columns in the data prep phase\n",
    "\n",
    "print (\"Products:\")\n",
    "#print(str(products))\n",
    "\n",
    "#print(dim(products))\n",
    "\n",
    "#print(head(products, 3))\n",
    "\n",
    "#print(names(products))\n",
    "\n",
    "# kable(head(products, 3))\n",
    "\n",
    "# glimpse(products)\n",
    "\n",
    "kable(head(products))\n",
    "\n",
    "#### 4. Orders\n",
    "\n",
    "# We have 3,421,083 Orders\n",
    "# We have a few extra columns. row_num - We don't need. And a few more columns at the end which are not required.\n",
    "# We will get rid of those columns in the data prep phase\n",
    "\n",
    "print (\"Orders:\")\n",
    "#print(str(orders))\n",
    "\n",
    "#print(dim(orders))\n",
    "\n",
    "#print(head(orders, 3))\n",
    "\n",
    "#print(names(orders))\n",
    "\n",
    "kable(head(orders))\n",
    "\n",
    "#### 5. Orders Products Prior\n",
    "\n",
    "# We have 16,500,000 Products Ordered\n",
    "# We have a few extra columns. row_num - We don't need. And a few more columns at the end which are not required.\n",
    "# We will get rid of those columns in the data prep phase\n",
    "print (\"Order_Products:\")\n",
    "#print(str(order_products_prior))\n",
    "\n",
    "#print(dim(order_products_prior))\n",
    "\n",
    "#print(head(order_products_prior, 3))\n",
    "\n",
    "#print(names(order_products_prior))\n",
    "\n",
    "kable(head(order_products_prior))\n"
   ]
  },
  {
   "cell_type": "markdown",
   "metadata": {},
   "source": [
    "### 1.a Remove Bad Columns"
   ]
  },
  {
   "cell_type": "code",
   "execution_count": 3,
   "metadata": {},
   "outputs": [],
   "source": [
    "############## a. Get rid of bad columns imported \n",
    "products<-products[,c(2,3,4,5)]\n",
    "#View(products)\n",
    "order_products_prior<-order_products_prior[,c(2:5)]\n",
    "#View(order_products_prior)"
   ]
  },
  {
   "cell_type": "markdown",
   "metadata": {},
   "source": [
    "### 1.b Check for duplicate rows, ids or any variables"
   ]
  },
  {
   "cell_type": "code",
   "execution_count": 13,
   "metadata": {},
   "outputs": [
    {
     "name": "stdout",
     "output_type": "stream",
     "text": [
      "[1] \"Check for duplicate rows, ids or any variables - DEPARTMENTS\"\n"
     ]
    },
    {
     "data": {
      "text/html": [
       "<table>\n",
       "<thead><tr><th scope=col>department_id</th><th scope=col>department</th></tr></thead>\n",
       "<tbody>\n",
       "</tbody>\n",
       "</table>\n"
      ],
      "text/latex": [
       "\\begin{tabular}{r|ll}\n",
       " department\\_id & department\\\\\n",
       "\\hline\n",
       "\\end{tabular}\n"
      ],
      "text/markdown": [
       "\n",
       "department_id | department | \n",
       "||\n",
       "\n",
       "\n"
      ],
      "text/plain": [
       "     department_id department"
      ]
     },
     "metadata": {},
     "output_type": "display_data"
    },
    {
     "data": {
      "text/html": [
       "<table>\n",
       "<thead><tr><th scope=col>department_id</th><th scope=col>department</th></tr></thead>\n",
       "<tbody>\n",
       "</tbody>\n",
       "</table>\n"
      ],
      "text/latex": [
       "\\begin{tabular}{r|ll}\n",
       " department\\_id & department\\\\\n",
       "\\hline\n",
       "\\end{tabular}\n"
      ],
      "text/markdown": [
       "\n",
       "department_id | department | \n",
       "||\n",
       "\n",
       "\n"
      ],
      "text/plain": [
       "     department_id department"
      ]
     },
     "metadata": {},
     "output_type": "display_data"
    },
    {
     "data": {
      "text/html": [
       "<table>\n",
       "<thead><tr><th scope=col>department_id</th><th scope=col>department</th></tr></thead>\n",
       "<tbody>\n",
       "</tbody>\n",
       "</table>\n"
      ],
      "text/latex": [
       "\\begin{tabular}{r|ll}\n",
       " department\\_id & department\\\\\n",
       "\\hline\n",
       "\\end{tabular}\n"
      ],
      "text/markdown": [
       "\n",
       "department_id | department | \n",
       "||\n",
       "\n",
       "\n"
      ],
      "text/plain": [
       "     department_id department"
      ]
     },
     "metadata": {},
     "output_type": "display_data"
    },
    {
     "name": "stdout",
     "output_type": "stream",
     "text": [
      "[1] \"Check for duplicate rows, ids or any variables - AISLES\"\n"
     ]
    },
    {
     "data": {
      "text/html": [
       "<table>\n",
       "<thead><tr><th scope=col>aisle_id</th><th scope=col>aisle</th></tr></thead>\n",
       "<tbody>\n",
       "</tbody>\n",
       "</table>\n"
      ],
      "text/latex": [
       "\\begin{tabular}{r|ll}\n",
       " aisle\\_id & aisle\\\\\n",
       "\\hline\n",
       "\\end{tabular}\n"
      ],
      "text/markdown": [
       "\n",
       "aisle_id | aisle | \n",
       "||\n",
       "\n",
       "\n"
      ],
      "text/plain": [
       "     aisle_id aisle"
      ]
     },
     "metadata": {},
     "output_type": "display_data"
    },
    {
     "data": {
      "text/html": [
       "<table>\n",
       "<thead><tr><th scope=col>aisle_id</th><th scope=col>aisle</th></tr></thead>\n",
       "<tbody>\n",
       "</tbody>\n",
       "</table>\n"
      ],
      "text/latex": [
       "\\begin{tabular}{r|ll}\n",
       " aisle\\_id & aisle\\\\\n",
       "\\hline\n",
       "\\end{tabular}\n"
      ],
      "text/markdown": [
       "\n",
       "aisle_id | aisle | \n",
       "||\n",
       "\n",
       "\n"
      ],
      "text/plain": [
       "     aisle_id aisle"
      ]
     },
     "metadata": {},
     "output_type": "display_data"
    },
    {
     "data": {
      "text/html": [
       "<table>\n",
       "<thead><tr><th scope=col>aisle_id</th><th scope=col>aisle</th></tr></thead>\n",
       "<tbody>\n",
       "</tbody>\n",
       "</table>\n"
      ],
      "text/latex": [
       "\\begin{tabular}{r|ll}\n",
       " aisle\\_id & aisle\\\\\n",
       "\\hline\n",
       "\\end{tabular}\n"
      ],
      "text/markdown": [
       "\n",
       "aisle_id | aisle | \n",
       "||\n",
       "\n",
       "\n"
      ],
      "text/plain": [
       "     aisle_id aisle"
      ]
     },
     "metadata": {},
     "output_type": "display_data"
    },
    {
     "name": "stdout",
     "output_type": "stream",
     "text": [
      "[1] \"Check for duplicate rows, ids or any variables - PRODUCTS\"\n"
     ]
    },
    {
     "data": {
      "text/html": [
       "<table>\n",
       "<thead><tr><th scope=col>product_id</th><th scope=col>product_name</th><th scope=col>aisle_id</th><th scope=col>department_id</th></tr></thead>\n",
       "<tbody>\n",
       "</tbody>\n",
       "</table>\n"
      ],
      "text/latex": [
       "\\begin{tabular}{r|llll}\n",
       " product\\_id & product\\_name & aisle\\_id & department\\_id\\\\\n",
       "\\hline\n",
       "\\end{tabular}\n"
      ],
      "text/markdown": [
       "\n",
       "product_id | product_name | aisle_id | department_id | \n",
       "||\n",
       "\n",
       "\n"
      ],
      "text/plain": [
       "     product_id product_name aisle_id department_id"
      ]
     },
     "metadata": {},
     "output_type": "display_data"
    },
    {
     "data": {
      "text/html": [
       "<table>\n",
       "<thead><tr><th scope=col>product_id</th><th scope=col>product_name</th><th scope=col>aisle_id</th><th scope=col>department_id</th></tr></thead>\n",
       "<tbody>\n",
       "</tbody>\n",
       "</table>\n"
      ],
      "text/latex": [
       "\\begin{tabular}{r|llll}\n",
       " product\\_id & product\\_name & aisle\\_id & department\\_id\\\\\n",
       "\\hline\n",
       "\\end{tabular}\n"
      ],
      "text/markdown": [
       "\n",
       "product_id | product_name | aisle_id | department_id | \n",
       "||\n",
       "\n",
       "\n"
      ],
      "text/plain": [
       "     product_id product_name aisle_id department_id"
      ]
     },
     "metadata": {},
     "output_type": "display_data"
    },
    {
     "data": {
      "text/html": [
       "<table>\n",
       "<thead><tr><th scope=col>product_id</th><th scope=col>product_name</th><th scope=col>aisle_id</th><th scope=col>department_id</th></tr></thead>\n",
       "<tbody>\n",
       "</tbody>\n",
       "</table>\n"
      ],
      "text/latex": [
       "\\begin{tabular}{r|llll}\n",
       " product\\_id & product\\_name & aisle\\_id & department\\_id\\\\\n",
       "\\hline\n",
       "\\end{tabular}\n"
      ],
      "text/markdown": [
       "\n",
       "product_id | product_name | aisle_id | department_id | \n",
       "||\n",
       "\n",
       "\n"
      ],
      "text/plain": [
       "     product_id product_name aisle_id department_id"
      ]
     },
     "metadata": {},
     "output_type": "display_data"
    },
    {
     "name": "stdout",
     "output_type": "stream",
     "text": [
      "[1] \"Check for duplicate rows, ids or any variables - ORDERS\"\n"
     ]
    },
    {
     "data": {
      "text/html": [
       "<table>\n",
       "<thead><tr><th scope=col>order_id</th><th scope=col>user_id</th><th scope=col>eval_set</th><th scope=col>order_number</th><th scope=col>order_dow</th><th scope=col>order_hour_of_day</th><th scope=col>days_since_prior_order</th></tr></thead>\n",
       "<tbody>\n",
       "</tbody>\n",
       "</table>\n"
      ],
      "text/latex": [
       "\\begin{tabular}{r|lllllll}\n",
       " order\\_id & user\\_id & eval\\_set & order\\_number & order\\_dow & order\\_hour\\_of\\_day & days\\_since\\_prior\\_order\\\\\n",
       "\\hline\n",
       "\\end{tabular}\n"
      ],
      "text/markdown": [
       "\n",
       "order_id | user_id | eval_set | order_number | order_dow | order_hour_of_day | days_since_prior_order | \n",
       "||\n",
       "\n",
       "\n"
      ],
      "text/plain": [
       "     order_id user_id eval_set order_number order_dow order_hour_of_day\n",
       "     days_since_prior_order"
      ]
     },
     "metadata": {},
     "output_type": "display_data"
    },
    {
     "data": {
      "text/html": [
       "<table>\n",
       "<thead><tr><th scope=col>order_id</th><th scope=col>user_id</th><th scope=col>eval_set</th><th scope=col>order_number</th><th scope=col>order_dow</th><th scope=col>order_hour_of_day</th><th scope=col>days_since_prior_order</th></tr></thead>\n",
       "<tbody>\n",
       "</tbody>\n",
       "</table>\n"
      ],
      "text/latex": [
       "\\begin{tabular}{r|lllllll}\n",
       " order\\_id & user\\_id & eval\\_set & order\\_number & order\\_dow & order\\_hour\\_of\\_day & days\\_since\\_prior\\_order\\\\\n",
       "\\hline\n",
       "\\end{tabular}\n"
      ],
      "text/markdown": [
       "\n",
       "order_id | user_id | eval_set | order_number | order_dow | order_hour_of_day | days_since_prior_order | \n",
       "||\n",
       "\n",
       "\n"
      ],
      "text/plain": [
       "     order_id user_id eval_set order_number order_dow order_hour_of_day\n",
       "     days_since_prior_order"
      ]
     },
     "metadata": {},
     "output_type": "display_data"
    },
    {
     "name": "stdout",
     "output_type": "stream",
     "text": [
      "[1] \"Check for duplicate rows - ORDER_PRODUCTS_PRIOR\"\n"
     ]
    },
    {
     "data": {
      "text/html": [
       "<table>\n",
       "<thead><tr><th></th><th scope=col>order_id</th><th scope=col>product_id</th><th scope=col>add_to_cart_order</th><th scope=col>reordered</th></tr></thead>\n",
       "<tbody>\n",
       "\t<tr><th scope=row>9000001</th><td>1424849</td><td>39099  </td><td>13     </td><td>1      </td></tr>\n",
       "\t<tr><th scope=row>9000002</th><td>1424849</td><td>42612  </td><td>14     </td><td>1      </td></tr>\n",
       "\t<tr><th scope=row>9000003</th><td>1424849</td><td>28226  </td><td>15     </td><td>1      </td></tr>\n",
       "\t<tr><th scope=row>9000004</th><td>1424849</td><td>25513  </td><td>16     </td><td>1      </td></tr>\n",
       "\t<tr><th scope=row>9000005</th><td>1424849</td><td>47630  </td><td>17     </td><td>1      </td></tr>\n",
       "\t<tr><th scope=row>9000006</th><td>1424849</td><td>13338  </td><td>18     </td><td>1      </td></tr>\n",
       "\t<tr><th scope=row>9000007</th><td>1424849</td><td>34969  </td><td>19     </td><td>0      </td></tr>\n",
       "\t<tr><th scope=row>9000008</th><td>1424849</td><td>28204  </td><td>20     </td><td>1      </td></tr>\n",
       "\t<tr><th scope=row>9000009</th><td>1424850</td><td>12316  </td><td> 1     </td><td>1      </td></tr>\n",
       "\t<tr><th scope=row>9000010</th><td>1424850</td><td>44581  </td><td> 2     </td><td>1      </td></tr>\n",
       "\t<tr><th scope=row>9000011</th><td>1424850</td><td> 7255  </td><td> 3     </td><td>1      </td></tr>\n",
       "\t<tr><th scope=row>9000012</th><td>1424850</td><td>28221  </td><td> 4     </td><td>1      </td></tr>\n",
       "\t<tr><th scope=row>9000013</th><td>1424850</td><td>42423  </td><td> 5     </td><td>1      </td></tr>\n",
       "\t<tr><th scope=row>9000014</th><td>1424850</td><td>47337  </td><td> 6     </td><td>1      </td></tr>\n",
       "\t<tr><th scope=row>9000015</th><td>1424850</td><td>22315  </td><td> 7     </td><td>1      </td></tr>\n",
       "\t<tr><th scope=row>9000016</th><td>1424851</td><td> 5646  </td><td> 1     </td><td>0      </td></tr>\n",
       "\t<tr><th scope=row>9000017</th><td>1424851</td><td>45007  </td><td> 2     </td><td>0      </td></tr>\n",
       "\t<tr><th scope=row>9000018</th><td>1424851</td><td>38558  </td><td> 3     </td><td>0      </td></tr>\n",
       "\t<tr><th scope=row>9000019</th><td>1424851</td><td>21137  </td><td> 4     </td><td>0      </td></tr>\n",
       "\t<tr><th scope=row>9000020</th><td>1424851</td><td>12341  </td><td> 5     </td><td>0      </td></tr>\n",
       "\t<tr><th scope=row>9000021</th><td>1424851</td><td>  810  </td><td> 6     </td><td>0      </td></tr>\n",
       "\t<tr><th scope=row>9000022</th><td>1424851</td><td>40233  </td><td> 7     </td><td>0      </td></tr>\n",
       "\t<tr><th scope=row>9000023</th><td>1424851</td><td> 2210  </td><td> 8     </td><td>0      </td></tr>\n",
       "\t<tr><th scope=row>9000024</th><td>1424851</td><td> 9507  </td><td> 9     </td><td>0      </td></tr>\n",
       "\t<tr><th scope=row>9000025</th><td>1424851</td><td>26499  </td><td>10     </td><td>0      </td></tr>\n",
       "\t<tr><th scope=row>9000026</th><td>1424851</td><td>27625  </td><td>11     </td><td>0      </td></tr>\n",
       "\t<tr><th scope=row>9000027</th><td>1424851</td><td>19057  </td><td>12     </td><td>0      </td></tr>\n",
       "\t<tr><th scope=row>9000028</th><td>1424851</td><td>42122  </td><td>13     </td><td>0      </td></tr>\n",
       "\t<tr><th scope=row>9000029</th><td>1424851</td><td> 5426  </td><td>14     </td><td>0      </td></tr>\n",
       "\t<tr><th scope=row>9000030</th><td>1424852</td><td>36929  </td><td> 1     </td><td>1      </td></tr>\n",
       "\t<tr><th scope=row>...</th><td>...</td><td>...</td><td>...</td><td>...</td></tr>\n",
       "\t<tr><th scope=row>10499971</th><td>1582755</td><td> 6837  </td><td>11     </td><td>0      </td></tr>\n",
       "\t<tr><th scope=row>10499972</th><td>1582755</td><td>24810  </td><td>12     </td><td>0      </td></tr>\n",
       "\t<tr><th scope=row>10499973</th><td>1582755</td><td>43908  </td><td>13     </td><td>0      </td></tr>\n",
       "\t<tr><th scope=row>10499974</th><td>1582755</td><td> 1440  </td><td>14     </td><td>0      </td></tr>\n",
       "\t<tr><th scope=row>10499975</th><td>1582755</td><td> 7150  </td><td>15     </td><td>0      </td></tr>\n",
       "\t<tr><th scope=row>10499976</th><td>1582755</td><td>46667  </td><td>16     </td><td>0      </td></tr>\n",
       "\t<tr><th scope=row>10499977</th><td>1582755</td><td>12419  </td><td>17     </td><td>0      </td></tr>\n",
       "\t<tr><th scope=row>10499978</th><td>1582755</td><td> 5479  </td><td>18     </td><td>1      </td></tr>\n",
       "\t<tr><th scope=row>10499979</th><td>1582755</td><td> 8174  </td><td>19     </td><td>0      </td></tr>\n",
       "\t<tr><th scope=row>10499980</th><td>1582755</td><td>46134  </td><td>20     </td><td>0      </td></tr>\n",
       "\t<tr><th scope=row>10499981</th><td>1582755</td><td>20632  </td><td>21     </td><td>1      </td></tr>\n",
       "\t<tr><th scope=row>10499982</th><td>1582757</td><td>24852  </td><td> 1     </td><td>1      </td></tr>\n",
       "\t<tr><th scope=row>10499983</th><td>1582757</td><td>32360  </td><td> 2     </td><td>1      </td></tr>\n",
       "\t<tr><th scope=row>10499984</th><td>1582757</td><td>19171  </td><td> 3     </td><td>1      </td></tr>\n",
       "\t<tr><th scope=row>10499985</th><td>1582757</td><td>11440  </td><td> 4     </td><td>1      </td></tr>\n",
       "\t<tr><th scope=row>10499986</th><td>1582757</td><td> 5450  </td><td> 5     </td><td>1      </td></tr>\n",
       "\t<tr><th scope=row>10499987</th><td>1582757</td><td> 4871  </td><td> 6     </td><td>1      </td></tr>\n",
       "\t<tr><th scope=row>10499988</th><td>1582757</td><td> 5141  </td><td> 7     </td><td>1      </td></tr>\n",
       "\t<tr><th scope=row>10499989</th><td>1582757</td><td>21137  </td><td> 8     </td><td>1      </td></tr>\n",
       "\t<tr><th scope=row>10499990</th><td>1582757</td><td>11087  </td><td> 9     </td><td>1      </td></tr>\n",
       "\t<tr><th scope=row>10499991</th><td>1582757</td><td>11140  </td><td>10     </td><td>1      </td></tr>\n",
       "\t<tr><th scope=row>10499992</th><td>1582757</td><td>44328  </td><td>11     </td><td>1      </td></tr>\n",
       "\t<tr><th scope=row>10499993</th><td>1582757</td><td>40078  </td><td>12     </td><td>1      </td></tr>\n",
       "\t<tr><th scope=row>10499994</th><td>1582757</td><td>41665  </td><td>13     </td><td>1      </td></tr>\n",
       "\t<tr><th scope=row>10499995</th><td>1582757</td><td> 7559  </td><td>14     </td><td>1      </td></tr>\n",
       "\t<tr><th scope=row>10499996</th><td>1582757</td><td>15700  </td><td>15     </td><td>1      </td></tr>\n",
       "\t<tr><th scope=row>10499997</th><td>1582757</td><td> 2938  </td><td>16     </td><td>1      </td></tr>\n",
       "\t<tr><th scope=row>10499998</th><td>1582757</td><td>21417  </td><td>17     </td><td>0      </td></tr>\n",
       "\t<tr><th scope=row>10499999</th><td>1582757</td><td> 5077  </td><td>18     </td><td>1      </td></tr>\n",
       "\t<tr><th scope=row>10500000</th><td>1582757</td><td> 5240  </td><td>19     </td><td>1      </td></tr>\n",
       "</tbody>\n",
       "</table>\n"
      ],
      "text/latex": [
       "\\begin{tabular}{r|llll}\n",
       "  & order\\_id & product\\_id & add\\_to\\_cart\\_order & reordered\\\\\n",
       "\\hline\n",
       "\t9000001 & 1424849 & 39099   & 13      & 1      \\\\\n",
       "\t9000002 & 1424849 & 42612   & 14      & 1      \\\\\n",
       "\t9000003 & 1424849 & 28226   & 15      & 1      \\\\\n",
       "\t9000004 & 1424849 & 25513   & 16      & 1      \\\\\n",
       "\t9000005 & 1424849 & 47630   & 17      & 1      \\\\\n",
       "\t9000006 & 1424849 & 13338   & 18      & 1      \\\\\n",
       "\t9000007 & 1424849 & 34969   & 19      & 0      \\\\\n",
       "\t9000008 & 1424849 & 28204   & 20      & 1      \\\\\n",
       "\t9000009 & 1424850 & 12316   &  1      & 1      \\\\\n",
       "\t9000010 & 1424850 & 44581   &  2      & 1      \\\\\n",
       "\t9000011 & 1424850 &  7255   &  3      & 1      \\\\\n",
       "\t9000012 & 1424850 & 28221   &  4      & 1      \\\\\n",
       "\t9000013 & 1424850 & 42423   &  5      & 1      \\\\\n",
       "\t9000014 & 1424850 & 47337   &  6      & 1      \\\\\n",
       "\t9000015 & 1424850 & 22315   &  7      & 1      \\\\\n",
       "\t9000016 & 1424851 &  5646   &  1      & 0      \\\\\n",
       "\t9000017 & 1424851 & 45007   &  2      & 0      \\\\\n",
       "\t9000018 & 1424851 & 38558   &  3      & 0      \\\\\n",
       "\t9000019 & 1424851 & 21137   &  4      & 0      \\\\\n",
       "\t9000020 & 1424851 & 12341   &  5      & 0      \\\\\n",
       "\t9000021 & 1424851 &   810   &  6      & 0      \\\\\n",
       "\t9000022 & 1424851 & 40233   &  7      & 0      \\\\\n",
       "\t9000023 & 1424851 &  2210   &  8      & 0      \\\\\n",
       "\t9000024 & 1424851 &  9507   &  9      & 0      \\\\\n",
       "\t9000025 & 1424851 & 26499   & 10      & 0      \\\\\n",
       "\t9000026 & 1424851 & 27625   & 11      & 0      \\\\\n",
       "\t9000027 & 1424851 & 19057   & 12      & 0      \\\\\n",
       "\t9000028 & 1424851 & 42122   & 13      & 0      \\\\\n",
       "\t9000029 & 1424851 &  5426   & 14      & 0      \\\\\n",
       "\t9000030 & 1424852 & 36929   &  1      & 1      \\\\\n",
       "\t... & ... & ... & ... & ...\\\\\n",
       "\t10499971 & 1582755 &  6837   & 11      & 0      \\\\\n",
       "\t10499972 & 1582755 & 24810   & 12      & 0      \\\\\n",
       "\t10499973 & 1582755 & 43908   & 13      & 0      \\\\\n",
       "\t10499974 & 1582755 &  1440   & 14      & 0      \\\\\n",
       "\t10499975 & 1582755 &  7150   & 15      & 0      \\\\\n",
       "\t10499976 & 1582755 & 46667   & 16      & 0      \\\\\n",
       "\t10499977 & 1582755 & 12419   & 17      & 0      \\\\\n",
       "\t10499978 & 1582755 &  5479   & 18      & 1      \\\\\n",
       "\t10499979 & 1582755 &  8174   & 19      & 0      \\\\\n",
       "\t10499980 & 1582755 & 46134   & 20      & 0      \\\\\n",
       "\t10499981 & 1582755 & 20632   & 21      & 1      \\\\\n",
       "\t10499982 & 1582757 & 24852   &  1      & 1      \\\\\n",
       "\t10499983 & 1582757 & 32360   &  2      & 1      \\\\\n",
       "\t10499984 & 1582757 & 19171   &  3      & 1      \\\\\n",
       "\t10499985 & 1582757 & 11440   &  4      & 1      \\\\\n",
       "\t10499986 & 1582757 &  5450   &  5      & 1      \\\\\n",
       "\t10499987 & 1582757 &  4871   &  6      & 1      \\\\\n",
       "\t10499988 & 1582757 &  5141   &  7      & 1      \\\\\n",
       "\t10499989 & 1582757 & 21137   &  8      & 1      \\\\\n",
       "\t10499990 & 1582757 & 11087   &  9      & 1      \\\\\n",
       "\t10499991 & 1582757 & 11140   & 10      & 1      \\\\\n",
       "\t10499992 & 1582757 & 44328   & 11      & 1      \\\\\n",
       "\t10499993 & 1582757 & 40078   & 12      & 1      \\\\\n",
       "\t10499994 & 1582757 & 41665   & 13      & 1      \\\\\n",
       "\t10499995 & 1582757 &  7559   & 14      & 1      \\\\\n",
       "\t10499996 & 1582757 & 15700   & 15      & 1      \\\\\n",
       "\t10499997 & 1582757 &  2938   & 16      & 1      \\\\\n",
       "\t10499998 & 1582757 & 21417   & 17      & 0      \\\\\n",
       "\t10499999 & 1582757 &  5077   & 18      & 1      \\\\\n",
       "\t10500000 & 1582757 &  5240   & 19      & 1      \\\\\n",
       "\\end{tabular}\n"
      ],
      "text/markdown": [
       "\n",
       "| <!--/--> | order_id | product_id | add_to_cart_order | reordered | \n",
       "|---|---|---|---|---|---|---|---|---|---|---|---|---|---|---|---|---|---|---|---|---|---|---|---|---|---|---|---|---|---|---|---|---|---|---|---|---|---|---|---|---|---|---|---|---|---|---|---|---|---|---|---|---|---|---|---|---|---|---|---|---|\n",
       "| 9000001 | 1424849 | 39099   | 13      | 1       | \n",
       "| 9000002 | 1424849 | 42612   | 14      | 1       | \n",
       "| 9000003 | 1424849 | 28226   | 15      | 1       | \n",
       "| 9000004 | 1424849 | 25513   | 16      | 1       | \n",
       "| 9000005 | 1424849 | 47630   | 17      | 1       | \n",
       "| 9000006 | 1424849 | 13338   | 18      | 1       | \n",
       "| 9000007 | 1424849 | 34969   | 19      | 0       | \n",
       "| 9000008 | 1424849 | 28204   | 20      | 1       | \n",
       "| 9000009 | 1424850 | 12316   |  1      | 1       | \n",
       "| 9000010 | 1424850 | 44581   |  2      | 1       | \n",
       "| 9000011 | 1424850 |  7255   |  3      | 1       | \n",
       "| 9000012 | 1424850 | 28221   |  4      | 1       | \n",
       "| 9000013 | 1424850 | 42423   |  5      | 1       | \n",
       "| 9000014 | 1424850 | 47337   |  6      | 1       | \n",
       "| 9000015 | 1424850 | 22315   |  7      | 1       | \n",
       "| 9000016 | 1424851 |  5646   |  1      | 0       | \n",
       "| 9000017 | 1424851 | 45007   |  2      | 0       | \n",
       "| 9000018 | 1424851 | 38558   |  3      | 0       | \n",
       "| 9000019 | 1424851 | 21137   |  4      | 0       | \n",
       "| 9000020 | 1424851 | 12341   |  5      | 0       | \n",
       "| 9000021 | 1424851 |   810   |  6      | 0       | \n",
       "| 9000022 | 1424851 | 40233   |  7      | 0       | \n",
       "| 9000023 | 1424851 |  2210   |  8      | 0       | \n",
       "| 9000024 | 1424851 |  9507   |  9      | 0       | \n",
       "| 9000025 | 1424851 | 26499   | 10      | 0       | \n",
       "| 9000026 | 1424851 | 27625   | 11      | 0       | \n",
       "| 9000027 | 1424851 | 19057   | 12      | 0       | \n",
       "| 9000028 | 1424851 | 42122   | 13      | 0       | \n",
       "| 9000029 | 1424851 |  5426   | 14      | 0       | \n",
       "| 9000030 | 1424852 | 36929   |  1      | 1       | \n",
       "| ... | ... | ... | ... | ... | \n",
       "| 10499971 | 1582755 |  6837   | 11      | 0       | \n",
       "| 10499972 | 1582755 | 24810   | 12      | 0       | \n",
       "| 10499973 | 1582755 | 43908   | 13      | 0       | \n",
       "| 10499974 | 1582755 |  1440   | 14      | 0       | \n",
       "| 10499975 | 1582755 |  7150   | 15      | 0       | \n",
       "| 10499976 | 1582755 | 46667   | 16      | 0       | \n",
       "| 10499977 | 1582755 | 12419   | 17      | 0       | \n",
       "| 10499978 | 1582755 |  5479   | 18      | 1       | \n",
       "| 10499979 | 1582755 |  8174   | 19      | 0       | \n",
       "| 10499980 | 1582755 | 46134   | 20      | 0       | \n",
       "| 10499981 | 1582755 | 20632   | 21      | 1       | \n",
       "| 10499982 | 1582757 | 24852   |  1      | 1       | \n",
       "| 10499983 | 1582757 | 32360   |  2      | 1       | \n",
       "| 10499984 | 1582757 | 19171   |  3      | 1       | \n",
       "| 10499985 | 1582757 | 11440   |  4      | 1       | \n",
       "| 10499986 | 1582757 |  5450   |  5      | 1       | \n",
       "| 10499987 | 1582757 |  4871   |  6      | 1       | \n",
       "| 10499988 | 1582757 |  5141   |  7      | 1       | \n",
       "| 10499989 | 1582757 | 21137   |  8      | 1       | \n",
       "| 10499990 | 1582757 | 11087   |  9      | 1       | \n",
       "| 10499991 | 1582757 | 11140   | 10      | 1       | \n",
       "| 10499992 | 1582757 | 44328   | 11      | 1       | \n",
       "| 10499993 | 1582757 | 40078   | 12      | 1       | \n",
       "| 10499994 | 1582757 | 41665   | 13      | 1       | \n",
       "| 10499995 | 1582757 |  7559   | 14      | 1       | \n",
       "| 10499996 | 1582757 | 15700   | 15      | 1       | \n",
       "| 10499997 | 1582757 |  2938   | 16      | 1       | \n",
       "| 10499998 | 1582757 | 21417   | 17      | 0       | \n",
       "| 10499999 | 1582757 |  5077   | 18      | 1       | \n",
       "| 10500000 | 1582757 |  5240   | 19      | 1       | \n",
       "\n",
       "\n"
      ],
      "text/plain": [
       "         order_id product_id add_to_cart_order reordered\n",
       "9000001  1424849  39099      13                1        \n",
       "9000002  1424849  42612      14                1        \n",
       "9000003  1424849  28226      15                1        \n",
       "9000004  1424849  25513      16                1        \n",
       "9000005  1424849  47630      17                1        \n",
       "9000006  1424849  13338      18                1        \n",
       "9000007  1424849  34969      19                0        \n",
       "9000008  1424849  28204      20                1        \n",
       "9000009  1424850  12316       1                1        \n",
       "9000010  1424850  44581       2                1        \n",
       "9000011  1424850   7255       3                1        \n",
       "9000012  1424850  28221       4                1        \n",
       "9000013  1424850  42423       5                1        \n",
       "9000014  1424850  47337       6                1        \n",
       "9000015  1424850  22315       7                1        \n",
       "9000016  1424851   5646       1                0        \n",
       "9000017  1424851  45007       2                0        \n",
       "9000018  1424851  38558       3                0        \n",
       "9000019  1424851  21137       4                0        \n",
       "9000020  1424851  12341       5                0        \n",
       "9000021  1424851    810       6                0        \n",
       "9000022  1424851  40233       7                0        \n",
       "9000023  1424851   2210       8                0        \n",
       "9000024  1424851   9507       9                0        \n",
       "9000025  1424851  26499      10                0        \n",
       "9000026  1424851  27625      11                0        \n",
       "9000027  1424851  19057      12                0        \n",
       "9000028  1424851  42122      13                0        \n",
       "9000029  1424851   5426      14                0        \n",
       "9000030  1424852  36929       1                1        \n",
       "...      ...      ...        ...               ...      \n",
       "10499971 1582755   6837      11                0        \n",
       "10499972 1582755  24810      12                0        \n",
       "10499973 1582755  43908      13                0        \n",
       "10499974 1582755   1440      14                0        \n",
       "10499975 1582755   7150      15                0        \n",
       "10499976 1582755  46667      16                0        \n",
       "10499977 1582755  12419      17                0        \n",
       "10499978 1582755   5479      18                1        \n",
       "10499979 1582755   8174      19                0        \n",
       "10499980 1582755  46134      20                0        \n",
       "10499981 1582755  20632      21                1        \n",
       "10499982 1582757  24852       1                1        \n",
       "10499983 1582757  32360       2                1        \n",
       "10499984 1582757  19171       3                1        \n",
       "10499985 1582757  11440       4                1        \n",
       "10499986 1582757   5450       5                1        \n",
       "10499987 1582757   4871       6                1        \n",
       "10499988 1582757   5141       7                1        \n",
       "10499989 1582757  21137       8                1        \n",
       "10499990 1582757  11087       9                1        \n",
       "10499991 1582757  11140      10                1        \n",
       "10499992 1582757  44328      11                1        \n",
       "10499993 1582757  40078      12                1        \n",
       "10499994 1582757  41665      13                1        \n",
       "10499995 1582757   7559      14                1        \n",
       "10499996 1582757  15700      15                1        \n",
       "10499997 1582757   2938      16                1        \n",
       "10499998 1582757  21417      17                0        \n",
       "10499999 1582757   5077      18                1        \n",
       "10500000 1582757   5240      19                1        "
      ]
     },
     "metadata": {},
     "output_type": "display_data"
    }
   ],
   "source": [
    "############## b. Check for duplicate rows, ids or any variables\n",
    "\n",
    "#departments\n",
    "print(\"Check for duplicate rows, ids or any variables - DEPARTMENTS\")\n",
    "departments[duplicated(departments),] #No Duplicate rows\n",
    "departments[duplicated(departments$id),] # No Duplicate id\n",
    "departments[duplicated(departments$name),] # No Duplicate department name\n",
    "\n",
    "#aisles\n",
    "print(\"Check for duplicate rows, ids or any variables - AISLES\")\n",
    "aisles[duplicated(aisles),] #No Duplicate rows\n",
    "aisles[duplicated(aisles$id),] # No Duplicate id\n",
    "aisles[duplicated(aisles$name),] # No Duplicate department name\n",
    "\n",
    "#products\n",
    "print(\"Check for duplicate rows, ids or any variables - PRODUCTS\")\n",
    "products[duplicated(products),] #No Duplicate rows\n",
    "products[duplicated(products$product_id),] # No Duplicate id\n",
    "products[duplicated(products$product_name),] # No Duplicate department name\n",
    "\n",
    "#orders\n",
    "print(\"Check for duplicate rows, ids or any variables - ORDERS\")\n",
    "orders[duplicated(orders),] #No Duplicate rows\n",
    "orders[duplicated(orders$order_id),] # No Duplicate id\n",
    "\n",
    "#order_products_prior\n",
    "print(\"Check for duplicate rows - ORDER_PRODUCTS_PRIOR\")\n",
    "order_products_prior[duplicated(order_products_prior),] #No Duplicate rows\n",
    "\n",
    "print(\"******** NO DUPLICATES FOUND IN ANY OF THE DATASETS ********\")"
   ]
  },
  {
   "cell_type": "markdown",
   "metadata": {},
   "source": [
    "### 1.c Check for Bad Data, and remove bad characters from product_name"
   ]
  },
  {
   "cell_type": "code",
   "execution_count": 4,
   "metadata": {},
   "outputs": [
    {
     "name": "stdout",
     "output_type": "stream",
     "text": [
      "[1] \"Check for bad characters in department$department:\"\n"
     ]
    },
    {
     "data": {
      "text/html": [
       "<table>\n",
       "<thead><tr><th scope=col>department_id</th><th scope=col>department</th></tr></thead>\n",
       "<tbody>\n",
       "</tbody>\n",
       "</table>\n"
      ],
      "text/latex": [
       "\\begin{tabular}{r|ll}\n",
       " department\\_id & department\\\\\n",
       "\\hline\n",
       "\\end{tabular}\n"
      ],
      "text/markdown": [
       "\n",
       "department_id | department | \n",
       "||\n",
       "\n",
       "\n"
      ],
      "text/plain": [
       "     department_id department"
      ]
     },
     "metadata": {},
     "output_type": "display_data"
    },
    {
     "name": "stdout",
     "output_type": "stream",
     "text": [
      "[1] \"Check for bad characters in aisles$aisle:\"\n"
     ]
    },
    {
     "data": {
      "text/html": [
       "<table>\n",
       "<thead><tr><th scope=col>aisle_id</th><th scope=col>aisle</th></tr></thead>\n",
       "<tbody>\n",
       "</tbody>\n",
       "</table>\n"
      ],
      "text/latex": [
       "\\begin{tabular}{r|ll}\n",
       " aisle\\_id & aisle\\\\\n",
       "\\hline\n",
       "\\end{tabular}\n"
      ],
      "text/markdown": [
       "\n",
       "aisle_id | aisle | \n",
       "||\n",
       "\n",
       "\n"
      ],
      "text/plain": [
       "     aisle_id aisle"
      ]
     },
     "metadata": {},
     "output_type": "display_data"
    },
    {
     "name": "stdout",
     "output_type": "stream",
     "text": [
      "[1] \"Check for bad characters in products$product_name:\"\n"
     ]
    },
    {
     "data": {
      "text/html": [
       "4"
      ],
      "text/latex": [
       "4"
      ],
      "text/markdown": [
       "4"
      ],
      "text/plain": [
       "[1] 4"
      ]
     },
     "metadata": {},
     "output_type": "display_data"
    },
    {
     "name": "stdout",
     "output_type": "stream",
     "text": [
      "[1] \"Check for bad characters in products$product_name:\"\n",
      "[1] \"After Cleansing the data, we do see that all valid product names\"\n"
     ]
    }
   ],
   "source": [
    "############## c. Check for Bad Data, and remove bad characters from product_name\n",
    "\n",
    "# This function will return FALSE if any characters other than the list is found\n",
    "bad_chars <- function(x) grepl(\"[^A-Za-z'& 0-9.,%+-//(//)!#$:.;//*\\\"]\", x) \n",
    "\n",
    "# Detect non-ASCII\n",
    "# This function will convert string to ASCII and the try to detect all the generated non printable\n",
    "# control characters which couldn't be converted\n",
    "check_non_ascii <- function(x) { grepl(\"[[:cntrl:]]\", stringi::stri_enc_toascii(x)) }\n",
    "\n",
    "# Remove bad characters\n",
    "remove_bad_chars <- function (x, y) { gsub(y, \"\", x) }\n",
    "\n",
    "# Remove bad characters\n",
    "remove_bad_chars1 <- function (x, y) { gsub(y, \"\", x, fixed=TRUE) }\n",
    "\n",
    "# Replace bad strings with the correct ones\n",
    "replace_bad_strings <- function (x, y, z) { gsub(y, z, x) }\n",
    "\n",
    "\n",
    "print(\"Check for bad characters in department$department:\")\n",
    "departments[bad_chars(departments$department),]\n",
    "\n",
    "print(\"Check for bad characters in aisles$aisle:\")\n",
    "aisles[bad_chars(aisles$aisle),]\n",
    "\n",
    "print(\"Check for bad characters in products$product_name:\")\n",
    "length(products[bad_chars(products$product_name),]) # Check for any product_name with bad characters\n",
    "\n",
    "\n",
    "# Data cleansing required for product_name\n",
    "#   * product_name with \"~(*@\"\n",
    "#   * product_name with \\\\\"x13\\\\\"\n",
    "#   * product_name = #NAME?\n",
    "#   * product_name with \\\n",
    "\n",
    "products$product_name <- remove_bad_chars(products$product_name, \"~\\\\(\\\\*@\")\n",
    "products$product_name <- remove_bad_chars(products$product_name, \"\\\\\\\\\\\"x13\\\\\\\\\\\"\")\n",
    "products$product_name <- remove_bad_chars1(products$product_name, \"\\\\\") \n",
    "products$product_name <- replace_bad_strings(products$product_name, \"<U+FFFD>\", \"\")\n",
    "products$product_name <- remove_bad_chars(products$product_name, \",\") #Key essential step before generating the basket format dataset is to remove \"commas\" from the product_name\n",
    "products$product_name <- remove_bad_chars(products$product_name, \"\\\"\")\n",
    "\n",
    "#products[check_non_ascii(products$product_name),]\n",
    "\n",
    "print(\"Check for bad characters in products$product_name:\")\n",
    "print(\"After Cleansing the data, we do see that all valid product names\")\n",
    "#View(products[bad_chars(products$product_name),]) # Check for any product_name with bad characters"
   ]
  },
  {
   "cell_type": "code",
   "execution_count": 16,
   "metadata": {},
   "outputs": [
    {
     "data": {
      "text/plain": [
       "\n",
       "  prior    test   train \n",
       "3214874   75000  131209 "
      ]
     },
     "metadata": {},
     "output_type": "display_data"
    },
    {
     "data": {
      "text/plain": [
       "\n",
       "     0      1      2      3      4      5      6 \n",
       "600905 587478 467260 436972 426339 453368 448761 "
      ]
     },
     "metadata": {},
     "output_type": "display_data"
    },
    {
     "data": {
      "text/plain": [
       "\n",
       "     0      1      2      3      4      5      6      7      8      9     10 \n",
       " 22758  12398   7539   5474   5527   9569  30529  91868 178201 257812 288418 \n",
       "    11     12     13     14     15     16     17     18     19     20     21 \n",
       "284728 272841 277999 283042 283639 272553 228795 182912 140569 104292  78109 \n",
       "    22     23 \n",
       " 61468  40043 "
      ]
     },
     "metadata": {},
     "output_type": "display_data"
    },
    {
     "data": {
      "text/html": [
       "<table>\n",
       "<thead><tr><th scope=col>order_id</th><th scope=col>user_id</th><th scope=col>eval_set</th><th scope=col>order_number</th><th scope=col>order_dow</th><th scope=col>order_hour_of_day</th><th scope=col>days_since_prior_order</th></tr></thead>\n",
       "<tbody>\n",
       "</tbody>\n",
       "</table>\n"
      ],
      "text/latex": [
       "\\begin{tabular}{r|lllllll}\n",
       " order\\_id & user\\_id & eval\\_set & order\\_number & order\\_dow & order\\_hour\\_of\\_day & days\\_since\\_prior\\_order\\\\\n",
       "\\hline\n",
       "\\end{tabular}\n"
      ],
      "text/markdown": [
       "\n",
       "order_id | user_id | eval_set | order_number | order_dow | order_hour_of_day | days_since_prior_order | \n",
       "||\n",
       "\n",
       "\n"
      ],
      "text/plain": [
       "     order_id user_id eval_set order_number order_dow order_hour_of_day\n",
       "     days_since_prior_order"
      ]
     },
     "metadata": {},
     "output_type": "display_data"
    },
    {
     "data": {
      "text/html": [
       "<table>\n",
       "<thead><tr><th scope=col>order_id</th><th scope=col>user_id</th><th scope=col>eval_set</th><th scope=col>order_number</th><th scope=col>order_dow</th><th scope=col>order_hour_of_day</th><th scope=col>days_since_prior_order</th></tr></thead>\n",
       "<tbody>\n",
       "</tbody>\n",
       "</table>\n"
      ],
      "text/latex": [
       "\\begin{tabular}{r|lllllll}\n",
       " order\\_id & user\\_id & eval\\_set & order\\_number & order\\_dow & order\\_hour\\_of\\_day & days\\_since\\_prior\\_order\\\\\n",
       "\\hline\n",
       "\\end{tabular}\n"
      ],
      "text/markdown": [
       "\n",
       "order_id | user_id | eval_set | order_number | order_dow | order_hour_of_day | days_since_prior_order | \n",
       "||\n",
       "\n",
       "\n"
      ],
      "text/plain": [
       "     order_id user_id eval_set order_number order_dow order_hour_of_day\n",
       "     days_since_prior_order"
      ]
     },
     "metadata": {},
     "output_type": "display_data"
    },
    {
     "name": "stdout",
     "output_type": "stream",
     "text": [
      "[1] \"******** CATEGORICAL VARIABLES IN ORDERS HAVE CORRECT VALUES ********\"\n"
     ]
    }
   ],
   "source": [
    "# For Orders - Verify Values\n",
    "# a. Check if any eval_set values other than test, train prior\n",
    "table(orders$eval_set)\n",
    "# b. Check if any order_dow values other than 0-6\n",
    "table(orders$order_dow)\n",
    "# c. Check if any order_dow values other than 0-23\n",
    "table(orders$order_hour_of_day)\n",
    "# d. For all order_number=1, check if days_since_prior_order=NA\n",
    "head(orders[orders$order_number == 1 & !is.na(orders$days_since_prior_order),])\n",
    "head(orders[orders$order_number != 1 & is.na(orders$days_since_prior_order),])\n",
    "\n",
    "print(\"******** CATEGORICAL VARIABLES IN ORDERS HAVE CORRECT VALUES ********\")"
   ]
  },
  {
   "cell_type": "markdown",
   "metadata": {},
   "source": [
    "### 1.d Find Missing Values"
   ]
  },
  {
   "cell_type": "code",
   "execution_count": 20,
   "metadata": {},
   "outputs": [
    {
     "name": "stdout",
     "output_type": "stream",
     "text": [
      "[1] \"Missing Values in asiles:\"\n"
     ]
    },
    {
     "data": {
      "text/html": [
       "<dl class=dl-horizontal>\n",
       "\t<dt>aisle_id</dt>\n",
       "\t\t<dd>0</dd>\n",
       "\t<dt>aisle</dt>\n",
       "\t\t<dd>0</dd>\n",
       "</dl>\n"
      ],
      "text/latex": [
       "\\begin{description*}\n",
       "\\item[aisle\\textbackslash{}\\_id] 0\n",
       "\\item[aisle] 0\n",
       "\\end{description*}\n"
      ],
      "text/markdown": [
       "aisle_id\n",
       ":   0aisle\n",
       ":   0\n",
       "\n"
      ],
      "text/plain": [
       "aisle_id    aisle \n",
       "       0        0 "
      ]
     },
     "metadata": {},
     "output_type": "display_data"
    },
    {
     "name": "stdout",
     "output_type": "stream",
     "text": [
      "[1] \"Missing Values in departments:\"\n"
     ]
    },
    {
     "data": {
      "text/html": [
       "<dl class=dl-horizontal>\n",
       "\t<dt>department_id</dt>\n",
       "\t\t<dd>0</dd>\n",
       "\t<dt>department</dt>\n",
       "\t\t<dd>0</dd>\n",
       "</dl>\n"
      ],
      "text/latex": [
       "\\begin{description*}\n",
       "\\item[department\\textbackslash{}\\_id] 0\n",
       "\\item[department] 0\n",
       "\\end{description*}\n"
      ],
      "text/markdown": [
       "department_id\n",
       ":   0department\n",
       ":   0\n",
       "\n"
      ],
      "text/plain": [
       "department_id    department \n",
       "            0             0 "
      ]
     },
     "metadata": {},
     "output_type": "display_data"
    },
    {
     "name": "stdout",
     "output_type": "stream",
     "text": [
      "[1] \"Missing Values in products:\"\n"
     ]
    },
    {
     "data": {
      "text/html": [
       "<dl class=dl-horizontal>\n",
       "\t<dt>product_id</dt>\n",
       "\t\t<dd>0</dd>\n",
       "\t<dt>product_name</dt>\n",
       "\t\t<dd>0</dd>\n",
       "\t<dt>aisle_id</dt>\n",
       "\t\t<dd>186</dd>\n",
       "\t<dt>department_id</dt>\n",
       "\t\t<dd>157</dd>\n",
       "</dl>\n"
      ],
      "text/latex": [
       "\\begin{description*}\n",
       "\\item[product\\textbackslash{}\\_id] 0\n",
       "\\item[product\\textbackslash{}\\_name] 0\n",
       "\\item[aisle\\textbackslash{}\\_id] 186\n",
       "\\item[department\\textbackslash{}\\_id] 157\n",
       "\\end{description*}\n"
      ],
      "text/markdown": [
       "product_id\n",
       ":   0product_name\n",
       ":   0aisle_id\n",
       ":   186department_id\n",
       ":   157\n",
       "\n"
      ],
      "text/plain": [
       "   product_id  product_name      aisle_id department_id \n",
       "            0             0           186           157 "
      ]
     },
     "metadata": {},
     "output_type": "display_data"
    },
    {
     "name": "stdout",
     "output_type": "stream",
     "text": [
      "[1] \"Missing Values in orders:\"\n"
     ]
    },
    {
     "data": {
      "text/html": [
       "<dl class=dl-horizontal>\n",
       "\t<dt>order_id</dt>\n",
       "\t\t<dd>0</dd>\n",
       "\t<dt>user_id</dt>\n",
       "\t\t<dd>0</dd>\n",
       "\t<dt>eval_set</dt>\n",
       "\t\t<dd>0</dd>\n",
       "\t<dt>order_number</dt>\n",
       "\t\t<dd>0</dd>\n",
       "\t<dt>order_dow</dt>\n",
       "\t\t<dd>0</dd>\n",
       "\t<dt>order_hour_of_day</dt>\n",
       "\t\t<dd>0</dd>\n",
       "\t<dt>days_since_prior_order</dt>\n",
       "\t\t<dd>206209</dd>\n",
       "</dl>\n"
      ],
      "text/latex": [
       "\\begin{description*}\n",
       "\\item[order\\textbackslash{}\\_id] 0\n",
       "\\item[user\\textbackslash{}\\_id] 0\n",
       "\\item[eval\\textbackslash{}\\_set] 0\n",
       "\\item[order\\textbackslash{}\\_number] 0\n",
       "\\item[order\\textbackslash{}\\_dow] 0\n",
       "\\item[order\\textbackslash{}\\_hour\\textbackslash{}\\_of\\textbackslash{}\\_day] 0\n",
       "\\item[days\\textbackslash{}\\_since\\textbackslash{}\\_prior\\textbackslash{}\\_order] 206209\n",
       "\\end{description*}\n"
      ],
      "text/markdown": [
       "order_id\n",
       ":   0user_id\n",
       ":   0eval_set\n",
       ":   0order_number\n",
       ":   0order_dow\n",
       ":   0order_hour_of_day\n",
       ":   0days_since_prior_order\n",
       ":   206209\n",
       "\n"
      ],
      "text/plain": [
       "              order_id                user_id               eval_set \n",
       "                     0                      0                      0 \n",
       "          order_number              order_dow      order_hour_of_day \n",
       "                     0                      0                      0 \n",
       "days_since_prior_order \n",
       "                206209 "
      ]
     },
     "metadata": {},
     "output_type": "display_data"
    },
    {
     "name": "stdout",
     "output_type": "stream",
     "text": [
      "[1] \"Missing Values in order_products_prior:\"\n"
     ]
    },
    {
     "data": {
      "text/html": [
       "<dl class=dl-horizontal>\n",
       "\t<dt>order_id</dt>\n",
       "\t\t<dd>0</dd>\n",
       "\t<dt>product_id</dt>\n",
       "\t\t<dd>0</dd>\n",
       "\t<dt>add_to_cart_order</dt>\n",
       "\t\t<dd>0</dd>\n",
       "\t<dt>reordered</dt>\n",
       "\t\t<dd>0</dd>\n",
       "</dl>\n"
      ],
      "text/latex": [
       "\\begin{description*}\n",
       "\\item[order\\textbackslash{}\\_id] 0\n",
       "\\item[product\\textbackslash{}\\_id] 0\n",
       "\\item[add\\textbackslash{}\\_to\\textbackslash{}\\_cart\\textbackslash{}\\_order] 0\n",
       "\\item[reordered] 0\n",
       "\\end{description*}\n"
      ],
      "text/markdown": [
       "order_id\n",
       ":   0product_id\n",
       ":   0add_to_cart_order\n",
       ":   0reordered\n",
       ":   0\n",
       "\n"
      ],
      "text/plain": [
       "         order_id        product_id add_to_cart_order         reordered \n",
       "                0                 0                 0                 0 "
      ]
     },
     "metadata": {},
     "output_type": "display_data"
    },
    {
     "name": "stdout",
     "output_type": "stream",
     "text": [
      "[1] \"Orders have 206209 missing values for days_since_prior_order, but that is ok. NA means it was the first order\"\n",
      "\n",
      "[1] \"In order_product_prior, OrderID and ProductID missing in the parent table. These records will be automatically removed during the data preparation phase when we inner join all datasets.\"\n",
      "\n",
      "[1] \"For products missing 186 aisle_id and 157 department_id, we will impute as part of DATA PREP Phase 2\"\n",
      "\n"
     ]
    }
   ],
   "source": [
    "## Identify Missing Values (Method 1) - aisles\n",
    "miss = function(x){sum(is.na(x))}\n",
    "pMiss = function(x){sum(is.na(x))/length(x)*100}\n",
    "\n",
    "print(\"Missing Values in asiles:\")\n",
    "apply(aisles,2,miss)\n",
    "print(\"Missing Values in departments:\")\n",
    "apply(departments,2,miss)\n",
    "print(\"Missing Values in products:\")\n",
    "apply(products,2,miss)\n",
    "print(\"Missing Values in orders:\")\n",
    "apply(orders,2,miss)\n",
    "print(\"Missing Values in order_products_prior:\")\n",
    "apply(order_products_prior,2,miss)\n",
    "\n",
    "############## 1.2 Missing Values Treatment\n",
    "\n",
    "## For orders \n",
    "print(\"Orders have 206209 missing values for days_since_prior_order, but that is ok. NA means it was the first order\")\n",
    "cat(\"\\n\")\n",
    "## For order_product_prior - \n",
    "print(\"In order_product_prior, OrderID and ProductID missing in the parent table. These records will be automatically removed during the data preparation phase when we inner join all datasets.\")\n",
    "cat(\"\\n\")\n",
    "## For products\n",
    "print(\"For products missing 186 aisle_id and 157 department_id, we will impute as part of DATA PREP Phase 2\")\n",
    "cat(\"\\n\")"
   ]
  },
  {
   "cell_type": "markdown",
   "metadata": {},
   "source": [
    "### 1.e Check Referential Integrity and remove Orphan records"
   ]
  },
  {
   "cell_type": "code",
   "execution_count": 21,
   "metadata": {},
   "outputs": [
    {
     "name": "stdout",
     "output_type": "stream",
     "text": [
      "[1] \"Any products.department_id that does not exist in the departments:\"\n"
     ]
    },
    {
     "data": {
      "text/html": [
       "0"
      ],
      "text/latex": [
       "0"
      ],
      "text/markdown": [
       "0"
      ],
      "text/plain": [
       "[1] 0"
      ]
     },
     "metadata": {},
     "output_type": "display_data"
    },
    {
     "name": "stdout",
     "output_type": "stream",
     "text": [
      "[1] \"Any products.aisle_id that does not exist in the asiles:\"\n"
     ]
    },
    {
     "data": {
      "text/html": [
       "0"
      ],
      "text/latex": [
       "0"
      ],
      "text/markdown": [
       "0"
      ],
      "text/plain": [
       "[1] 0"
      ]
     },
     "metadata": {},
     "output_type": "display_data"
    },
    {
     "name": "stdout",
     "output_type": "stream",
     "text": [
      "[1] \"Any order_products_prior.product_id that does not exist in the products:\"\n"
     ]
    },
    {
     "data": {
      "text/html": [
       "348916"
      ],
      "text/latex": [
       "348916"
      ],
      "text/markdown": [
       "348916"
      ],
      "text/plain": [
       "[1] 348916"
      ]
     },
     "metadata": {},
     "output_type": "display_data"
    },
    {
     "name": "stdout",
     "output_type": "stream",
     "text": [
      "[1] \"Any order_products_prior.order_id that does not exist in the orders:\"\n"
     ]
    },
    {
     "data": {
      "text/html": [
       "0"
      ],
      "text/latex": [
       "0"
      ],
      "text/markdown": [
       "0"
      ],
      "text/plain": [
       "[1] 0"
      ]
     },
     "metadata": {},
     "output_type": "display_data"
    }
   ],
   "source": [
    "## Any products.department_id that does not exist in the departments - Yes, 157, but those are due to NA values\n",
    "print(\"Any products.department_id that does not exist in the departments:\")\n",
    "#nrow(products[!products$department_id %in% departments$department_id,])\n",
    "nrow(products[!(products$department_id %in% departments$department_id) & !is.na(products$department_id),])\n",
    "\n",
    "## Any products.aisle_id that does not exist in the asiles - Yes, 186, but those are doe to NA values\n",
    "print(\"Any products.aisle_id that does not exist in the asiles:\")\n",
    "nrow(products[!(products$aisle_id %in% aisles$aisle_id) & !is.na(products$aisle_id),])\n",
    "\n",
    "## Any order_products_prior.product_id that does not exist in the products - Yes, 348916\n",
    "print(\"Any order_products_prior.product_id that does not exist in the products:\")\n",
    "nrow(order_products_prior[!order_products_prior$product_id %in% products$product_id,])\n",
    "\n",
    "# Any order_products_prior.order_id that does not exist in the orders - No, 0\n",
    "print(\"Any order_products_prior.order_id that does not exist in the orders:\")\n",
    "nrow(order_products_prior[!order_products_prior$order_id %in% orders$order_id,])\n"
   ]
  },
  {
   "cell_type": "markdown",
   "metadata": {},
   "source": [
    "#### TEMPORARY\n",
    "* Remove any rows from products where aisle_id or department_id is missing AISLE or DEPARTMET dataframe\n"
   ]
  },
  {
   "cell_type": "code",
   "execution_count": 6,
   "metadata": {},
   "outputs": [
    {
     "name": "stdout",
     "output_type": "stream",
     "text": [
      "[1] \"nrow is products before:\"\n"
     ]
    },
    {
     "data": {
      "text/html": [
       "48170"
      ],
      "text/latex": [
       "48170"
      ],
      "text/markdown": [
       "48170"
      ],
      "text/plain": [
       "[1] 48170"
      ]
     },
     "metadata": {},
     "output_type": "display_data"
    },
    {
     "name": "stdout",
     "output_type": "stream",
     "text": [
      "\n",
      "[1] \"nrow is products after:\"\n"
     ]
    },
    {
     "data": {
      "text/html": [
       "47827"
      ],
      "text/latex": [
       "47827"
      ],
      "text/markdown": [
       "47827"
      ],
      "text/plain": [
       "[1] 47827"
      ]
     },
     "metadata": {},
     "output_type": "display_data"
    }
   ],
   "source": [
    "############## TEMPORARY - Only keep the products with department_id and aisle_id\n",
    "print(\"nrow is products before:\")\n",
    "nrow(products)\n",
    "products_clean <- products[products$department_id %in% departments$department_id & products$aisle_id %in% aisles$aisle_id,]\n",
    "cat(\"\\n\")\n",
    "print(\"nrow is products after:\")\n",
    "nrow(products_clean)"
   ]
  },
  {
   "cell_type": "markdown",
   "metadata": {},
   "source": [
    "### 1.f Create a denormalized dataframe by merging departments, aisles, products"
   ]
  },
  {
   "cell_type": "code",
   "execution_count": 7,
   "metadata": {},
   "outputs": [
    {
     "data": {
      "text/plain": [
       "\n",
       "\n",
       "| aisle_id| department_id| product_id|product_name                |department |aisle                 |\n",
       "|--------:|-------------:|----------:|:---------------------------|:----------|:---------------------|\n",
       "|        1|            20|      10288|Broccoli with Almond Soup   |deli       |PREPARED SOUPS SALADS |\n",
       "|        1|            20|      41116|Spinach Dijon Salad         |deli       |PREPARED SOUPS SALADS |\n",
       "|        1|            20|      47885|Black Bean Salad            |deli       |PREPARED SOUPS SALADS |\n",
       "|        1|            20|      48474|Deli Fresh Coleslaw         |deli       |PREPARED SOUPS SALADS |\n",
       "|        1|            20|       6778|Soup Golden Quinoa and Kale |deli       |PREPARED SOUPS SALADS |\n",
       "|        1|            20|      22155|Petite Caesar Salad         |deli       |PREPARED SOUPS SALADS |"
      ]
     },
     "metadata": {},
     "output_type": "display_data"
    }
   ],
   "source": [
    "############# 1.f Create one dataframe with products, departments, aisles\n",
    "\n",
    "product_aisle_department <- Reduce(function(x, y) merge(x, y, all=FALSE), list(products_clean, departments, aisles))\n",
    "kable(head(product_aisle_department))"
   ]
  },
  {
   "cell_type": "markdown",
   "metadata": {},
   "source": [
    "### 1.g Merge all dataframes using inner join - product_aisle_department and order_products_prior and dow"
   ]
  },
  {
   "cell_type": "code",
   "execution_count": 9,
   "metadata": {},
   "outputs": [
    {
     "data": {
      "text/html": [
       "<dl class=dl-horizontal>\n",
       "\t<dt>order_dow</dt>\n",
       "\t\t<dd>0:6</dd>\n",
       "\t<dt>order_day</dt>\n",
       "\t\t<dd>c(4, 2, 6, 7, 5, 1, 3)</dd>\n",
       "</dl>\n",
       "\n",
       "<details>\n",
       "\t<summary style=display:list-item;cursor:pointer>\n",
       "\t\t<strong>Levels</strong>:\n",
       "\t</summary>\n",
       "\t<ol class=list-inline>\n",
       "\t\t<li>'0:6'</li>\n",
       "\t\t<li>'c(4, 2, 6, 7, 5, 1, 3)'</li>\n",
       "\t</ol>\n",
       "</details>"
      ],
      "text/latex": [
       "\\begin{description*}\n",
       "\\item[order\\textbackslash{}\\_dow] 0:6\n",
       "\\item[order\\textbackslash{}\\_day] c(4, 2, 6, 7, 5, 1, 3)\n",
       "\\end{description*}\n",
       "\n",
       "\\emph{Levels}: \\begin{enumerate*}\n",
       "\\item '0:6'\n",
       "\\item 'c(4, 2, 6, 7, 5, 1, 3)'\n",
       "\\end{enumerate*}\n"
      ],
      "text/markdown": [
       "order_dow\n",
       ":   0:6order_day\n",
       ":   c(4, 2, 6, 7, 5, 1, 3)\n",
       "\n",
       "\n",
       "**Levels**: 1. '0:6'\n",
       "2. 'c(4, 2, 6, 7, 5, 1, 3)'\n",
       "\n",
       "\n"
      ],
      "text/plain": [
       "             order_dow              order_day \n",
       "                   0:6 c(4, 2, 6, 7, 5, 1, 3) \n",
       "Levels: 0:6 c(4, 2, 6, 7, 5, 1, 3)"
      ]
     },
     "metadata": {},
     "output_type": "display_data"
    },
    {
     "data": {
      "text/plain": [
       "\n",
       "\n",
       "| order_dow| order_id| product_id| aisle_id| department_id|product_name                               |department |aisle                      | add_to_cart_order| reordered| user_id|eval_set | order_number| order_hour_of_day| days_since_prior_order|order_day |\n",
       "|---------:|--------:|----------:|--------:|-------------:|:------------------------------------------|:----------|:--------------------------|-----------------:|---------:|-------:|:--------|------------:|-----------------:|----------------------:|:---------|\n",
       "|         0|  1900953|      20153|      100|            21|Eat Your Colors Purples Puree Baby Food    |missing    |missing                    |                18|         0|  151991|prior    |           23|                17|                     12|Sun       |\n",
       "|         0|  3194251|       4846|       38|             1|Weight Watchers Three Cheese Ziti Marinara |frozen     |frozen meals               |                 7|         1|   52051|prior    |            9|                 9|                     30|Sun       |\n",
       "|         0|  2287684|      39877|       24|             4|Organic Granny Smith Apple                 |produce    |fresh fruits               |                 8|         1|   20939|prior    |           19|                 8|                      5|Sun       |\n",
       "|         0|  1454788|      43555|      105|            13|Arthur Chocolate Chip Cookie Mix           |pantry     |doughs gelatins bake mixes |                12|         1|   39507|prior    |            6|                10|                      7|Sun       |\n",
       "|         0|  1982590|       5456|       96|            20|Green Tea With Ginseng and Honey           |deli       |lunch meat                 |                14|         0|  144281|prior    |            4|                12|                     30|Sun       |\n",
       "|         0|   891046|      23594|       51|            13|Medium Salsa                               |pantry     |preserved dips spreads     |                 7|         0|   28675|prior    |            9|                15|                     30|Sun       |"
      ]
     },
     "metadata": {},
     "output_type": "display_data"
    },
    {
     "name": "stdout",
     "output_type": "stream",
     "text": [
      "\n",
      "[1] \"Number of records in: order_products_large\"\n",
      "[1] 16054761\n",
      "\n",
      "[1] \"Time taken to create the large denormalized dataset - order_products_large: \"\n",
      "Time difference of 2.854563 mins\n"
     ]
    }
   ],
   "source": [
    "############  1.g - PERMANENT - What if we tried joining all large, hw long does it take? - 5 minutes, 1.09 GB\n",
    "x <- Sys.time()\n",
    "dow <- data.frame(\"order_dow\"=0:6, \"order_day\"=c('Sun', 'Mon', 'Tue', 'Wed', 'Thu', 'Fri', 'Sat'))\n",
    "factor(dow)\n",
    "order_products_large <- Reduce(function(x, y) merge(x, y, all=FALSE), list(product_aisle_department, order_products_prior, orders, dow))\n",
    "y <- Sys.time() # Took 5 minutes to run\n",
    "#object.size(order_products_large) #1.09 GB\n",
    "kable(head(order_products_large))\n",
    "cat(\"\\n\")\n",
    "print(\"Number of records in: order_products_large\" )\n",
    "print(nrow(order_products_large))\n",
    "cat(\"\\n\")\n",
    "print(\"Time taken to create the large denormalized dataset - order_products_large: \")\n",
    "print(y-x)"
   ]
  },
  {
   "cell_type": "markdown",
   "metadata": {},
   "source": [
    "## <center> <font color=red>2. DATA VISUALIZATION</font> </center>\n",
    "******"
   ]
  },
  {
   "cell_type": "markdown",
   "metadata": {},
   "source": [
    "### DEPARTMENTS"
   ]
  },
  {
   "cell_type": "code",
   "execution_count": 28,
   "metadata": {},
   "outputs": [
    {
     "data": {},
     "metadata": {},
     "output_type": "display_data"
    },
    {
     "data": {
      "image/png": "[encoded data removed]",
      "text/plain": [
       "plot without title"
      ]
     },
     "metadata": {},
     "output_type": "display_data"
    }
   ],
   "source": [
    "# 1.1 Number of products in each department\n",
    "options(repr.plot.width = 7, repr.plot.height = 5)\n",
    "\n",
    "product_aisle_department %>%\n",
    "  group_by( department) %>%\n",
    "  dplyr::summarize(num_products = n()) %>%\n",
    "  arrange(desc(num_products)) %>%\n",
    "  ggplot( aes(x = reorder(department, -num_products), y = num_products)) +\n",
    "  geom_bar(stat = \"identity\", fill=\"steelblue\") +\n",
    "  geom_text(aes(label=paste(num_products,\" \")), vjust=1.6, color=\"white\", size=3) +\n",
    "  labs( title = \"Number of Products in Each Department\",\n",
    "        subtitle = \"Lets go bananas\",\n",
    "        x = \"Departments\", \n",
    "        y = \"Number of Products\") +\n",
    "  labs(subtitle = NULL) +\n",
    "  theme(axis.text.x = element_text(angle = 45, hjust = 1))"
   ]
  },
  {
   "cell_type": "code",
   "execution_count": 29,
   "metadata": {},
   "outputs": [
    {
     "data": {},
     "metadata": {},
     "output_type": "display_data"
    },
    {
     "data": {
      "image/png": "[encoded data removed]",
      "text/plain": [
       "plot without title"
      ]
     },
     "metadata": {},
     "output_type": "display_data"
    }
   ],
   "source": [
    "# Lets look at department wise product percentage sales\n",
    "order_products_large %>%\n",
    "  group_by( department) %>%\n",
    "  dplyr::summarize(perc = (n()/nrow(order_products_large)) * 100, cnt =n()) %>%\n",
    "  mutate(perc_txt = paste(round(perc,0), \"%\", sep = \"\")) %>%\n",
    "  top_n(15,wt=cnt)    %>%\n",
    "  arrange(desc(perc)) %>%\n",
    "  ggplot( aes(x = reorder(department, -cnt), y = cnt, fill = department)) +\n",
    "  geom_bar(stat = \"identity\") +\n",
    "  geom_text(aes(label=perc_txt), vjust=1.6, color=\"white\", size=3) +\n",
    "  labs( title = \"Top 10 Departments, by #Products, %Products Sold\",\n",
    "        subtitle = \"Lets go bananas\",\n",
    "        x = \"Departments\", \n",
    "        y = \"Number of Products Sold\") +\n",
    "  labs(subtitle = NULL)+\n",
    "  theme(axis.text.x = element_text(angle = 45, hjust = 1), legend.position=\"none\")"
   ]
  },
  {
   "cell_type": "markdown",
   "metadata": {},
   "source": [
    "### AISLES"
   ]
  },
  {
   "cell_type": "code",
   "execution_count": 30,
   "metadata": {},
   "outputs": [
    {
     "data": {},
     "metadata": {},
     "output_type": "display_data"
    },
    {
     "data": {
      "image/png": "[encoded data removed]",
      "text/plain": [
       "plot without title"
      ]
     },
     "metadata": {},
     "output_type": "display_data"
    }
   ],
   "source": [
    "# 2.1 Most Popular Aisles\n",
    "\n",
    "order_products_large %>%\n",
    "  group_by( aisle) %>%\n",
    "  dplyr::summarize(perc = (n()/nrow(order_products_large)) * 100, cnt = n()) %>%\n",
    "  mutate(perc_txt = paste(round(perc,0), \"%\", sep = \"\")) %>%\n",
    "  top_n(15,wt=cnt)    %>%\n",
    "  arrange(desc(perc)) %>%\n",
    "  ggplot(aes(x = reorder(aisle, -perc), y = cnt, fill = aisle)) +\n",
    "  geom_bar(stat = \"identity\") +\n",
    "  geom_text(aes(label=perc_txt), vjust=1.6, color=\"white\", size=3.5) +\n",
    "  labs( title = \"Most Popular Aisles, by #Products, %Products Sold\",\n",
    "        subtitle = \"Lets go bananas\",\n",
    "        x = \"Aisles\", \n",
    "        y = \"#Products Sold\",\n",
    "        fill = \"Aisles\") +\n",
    "  labs(subtitle = NULL)+\n",
    "  theme(axis.text.x = element_text(angle = 45, hjust = 1), legend.position=\"none\")"
   ]
  },
  {
   "cell_type": "markdown",
   "metadata": {},
   "source": [
    "### ORDERS"
   ]
  },
  {
   "cell_type": "code",
   "execution_count": 31,
   "metadata": {},
   "outputs": [
    {
     "data": {},
     "metadata": {},
     "output_type": "display_data"
    },
    {
     "data": {
      "image/png": "[encoded data removed]",
      "text/plain": [
       "plot without title"
      ]
     },
     "metadata": {},
     "output_type": "display_data"
    }
   ],
   "source": [
    "# Hour of Day Buying, in terms of % of orders\n",
    "order_products_large %>%\n",
    "  group_by( order_hour_of_day) %>%\n",
    "  dplyr::summarize(perc = (n_distinct(order_id)/length(unique(order_products_large$order_id))) * 100, cnt = n_distinct(order_id)) %>%\n",
    "  mutate(perc_txt = paste(round(perc,0), \"%\", sep = \"\")) %>%\n",
    "  arrange(desc(order_hour_of_day)) %>%\n",
    "  ggplot(aes(x = order_hour_of_day, y = cnt, fill = factor(order_hour_of_day))) +\n",
    "  geom_bar(stat = \"identity\") +\n",
    "  geom_text(aes(label=perc_txt), vjust=1.6, color=\"white\", size=3)+\n",
    "  labs( title = \"Slow and Steady Hours of Day, by #Orders, %Orders\",\n",
    "        subtitle = \"Lets go bananas\",\n",
    "        x = \"Order Hour\", \n",
    "        y = \"#Orders\") +\n",
    "  labs(subtitle = NULL)+\n",
    "  theme(axis.text.x = element_text(angle = 0, hjust = 1), legend.position=\"none\")"
   ]
  },
  {
   "cell_type": "code",
   "execution_count": 32,
   "metadata": {},
   "outputs": [
    {
     "data": {},
     "metadata": {},
     "output_type": "display_data"
    },
    {
     "data": {
      "image/png": "[encoded data removed]",
      "text/plain": [
       "plot without title"
      ]
     },
     "metadata": {},
     "output_type": "display_data"
    }
   ],
   "source": [
    "# Busiest Day of Week in terms of % of orders\n",
    "order_products_large %>%\n",
    "  group_by( order_day) %>%\n",
    "  dplyr::summarize(perc = (n_distinct(order_id)/length(unique(order_products_large$order_id))) * 100) %>%\n",
    "  mutate(perc_txt = paste(round(perc,0), \"%\", sep = \"\")) %>%\n",
    "  arrange(desc(perc)) %>%\n",
    "  ggplot( aes(x = reorder(order_day, -perc), y = perc, fill = order_day)) +\n",
    "  geom_bar(stat = \"identity\") +\n",
    "  geom_text(aes(label=perc_txt), vjust=1.6, color=\"white\", size=3)+\n",
    "  labs( title = \"Business Day of Week, by %Orders\",\n",
    "        subtitle = \"Lets go bananas\",\n",
    "        x = \"Order Day\", \n",
    "        y = \"% Orders\",\n",
    "        fill = \"Order Day\") +\n",
    "  labs(subtitle = NULL)+\n",
    "  theme(axis.text.x = element_text(angle = 0, hjust = 1), legend.position=\"none\")"
   ]
  },
  {
   "cell_type": "markdown",
   "metadata": {},
   "source": [
    "### PRODUCTS"
   ]
  },
  {
   "cell_type": "code",
   "execution_count": 34,
   "metadata": {},
   "outputs": [
    {
     "data": {},
     "metadata": {},
     "output_type": "display_data"
    },
    {
     "data": {
      "image/png": "[encoded data removed]",
      "text/plain": [
       "plot without title"
      ]
     },
     "metadata": {},
     "output_type": "display_data"
    }
   ],
   "source": [
    "# Average Number of Products per Order, Based on Day of Week\n",
    "df <- order_products_large %>%\n",
    "  group_by( order_id, order_day  ) %>%\n",
    "  dplyr::summarize(sum_products = n()) %>%\n",
    "  group_by( order_day  ) %>%\n",
    "  dplyr::summarize(average_items_per_order = mean(sum_products) ) %>%\n",
    "  arrange(desc(average_items_per_order))\n",
    "\n",
    "\n",
    "ggplot(data = df, aes(x = reorder(order_day, -average_items_per_order), y = average_items_per_order, fill = order_day)) +\n",
    "  geom_bar(stat = \"identity\") +\n",
    "  geom_text(aes(label=round(average_items_per_order)), vjust=1.6, color=\"white\", size=3) +\n",
    "  labs( title = \"Avg. Number of Items Per Order, by Day Of Week\",\n",
    "        subtitle = \"Lets go bananas\",\n",
    "        x = \"Order Day\", \n",
    "        y = \"Average Number of Orders\",\n",
    "        fill = \"Order Day\") +\n",
    "  labs(subtitle = NULL)+\n",
    "  theme(axis.text.x = element_text(angle = 0, hjust = 1), legend.position=\"none\")"
   ]
  },
  {
   "cell_type": "code",
   "execution_count": 35,
   "metadata": {},
   "outputs": [
    {
     "data": {},
     "metadata": {},
     "output_type": "display_data"
    },
    {
     "data": {
      "image/png": "[encoded data removed]",
      "text/plain": [
       "plot without title"
      ]
     },
     "metadata": {},
     "output_type": "display_data"
    }
   ],
   "source": [
    "# Top 20 products sold\n",
    "order_products_large %>%\n",
    "  group_by( product_name) %>%\n",
    "  dplyr::summarize(perc = (n()/nrow(order_products_large)) * 100, cnt =n()) %>%\n",
    "  mutate(perc_txt = paste(round(perc,2), \"%\", sep = \"\")) %>%\n",
    "  top_n(20, wt=cnt) %>%\n",
    "  arrange(desc(perc)) %>%\n",
    "  ggplot( aes(x = reorder(product_name, -perc), y = cnt, fill = product_name)) +\n",
    "  geom_bar(stat = \"identity\") +\n",
    "  geom_text(aes(label=perc_txt), vjust=1.6, color=\"white\", size=3) +\n",
    "  labs( title = \"Top 20 Products, #Units, %Sold\",\n",
    "        subtitle = \"Lets go bananas\",\n",
    "        x = \"Product\", \n",
    "        y = \"Number of Units Sold\",\n",
    "        fill = \"Product\") +\n",
    "  labs(subtitle = NULL)+\n",
    "  theme(axis.text.x = element_text(angle = 45, hjust = 1), legend.position=\"none\")"
   ]
  },
  {
   "cell_type": "markdown",
   "metadata": {},
   "source": [
    "### REORDERS"
   ]
  },
  {
   "cell_type": "code",
   "execution_count": 36,
   "metadata": {},
   "outputs": [
    {
     "data": {},
     "metadata": {},
     "output_type": "display_data"
    },
    {
     "data": {
      "image/png": "[encoded data removed]",
      "text/plain": [
       "plot without title"
      ]
     },
     "metadata": {},
     "output_type": "display_data"
    }
   ],
   "source": [
    "# What is a re-order schedule like?\n",
    "order_products_large %>%\n",
    "  filter(days_since_prior_order>0) %>%\n",
    "  group_by( days_since_prior_order) %>%\n",
    "  dplyr::summarize(cnt = n()) %>%\n",
    "  ggplot( aes(x = days_since_prior_order, y = cnt )) +\n",
    "  geom_bar(stat = \"identity\", fill=\"steelblue\") +\n",
    "  #geom_text(aes(label=cnt), vjust=1.6, color=\"white\", size=4) +\n",
    "  labs( title = \"Re-Order Schedule\",\n",
    "        subtitle = \"Lets go bananas\",\n",
    "        x = \"Days Since Reorder\", \n",
    "        y = \"Number of Reorders\",\n",
    "        fill = \"days_since_prior_order\") +\n",
    "  labs(subtitle = NULL)+\n",
    "  theme(axis.text.x = element_text(angle = 0, hjust = 1), legend.position=\"none\")"
   ]
  },
  {
   "cell_type": "code",
   "execution_count": 37,
   "metadata": {},
   "outputs": [
    {
     "data": {},
     "metadata": {},
     "output_type": "display_data"
    },
    {
     "data": {
      "image/png": "[encoded data removed]",
      "text/plain": [
       "plot without title"
      ]
     },
     "metadata": {},
     "output_type": "display_data"
    }
   ],
   "source": [
    "# How often do customers place re-orders?\n",
    "\n",
    "order_products_large %>%\n",
    "  group_by(reordered) %>%\n",
    "  dplyr::summarize(cnt = n()) %>%\n",
    "  mutate(perc = (cnt/sum(cnt))*100, reordered = as.factor(reordered)) %>%\n",
    "  mutate(perc_txt = paste(round(perc,0), \"%\", sep = \"\")) %>%\n",
    "  ggplot( aes(x = reordered, y = cnt, fill = factor(cnt) )) +\n",
    "  geom_bar(stat = \"identity\") +\n",
    "  geom_text(aes(label=perc_txt), vjust=1.6, color=\"white\", size=4) +\n",
    "  labs( title = \"Reorders vs New Orders\",\n",
    "        subtitle = \"Lets go bananas\",\n",
    "        x = \"Re-Orders - 0-NO, 1-YES\", \n",
    "        y = \"Number of Reorders\",\n",
    "        fill = \"days_since_prior_order\") +\n",
    "  labs(subtitle = NULL)+\n",
    "  theme(axis.text.x = element_text(angle = 0, hjust = 1), legend.position=\"none\")"
   ]
  },
  {
   "cell_type": "code",
   "execution_count": 38,
   "metadata": {},
   "outputs": [
    {
     "data": {},
     "metadata": {},
     "output_type": "display_data"
    },
    {
     "data": {
      "image/png": "[encoded data removed]",
      "text/plain": [
       "plot without title"
      ]
     },
     "metadata": {},
     "output_type": "display_data"
    }
   ],
   "source": [
    "# Top 20 most re-ordered items\n",
    "order_products_large %>%\n",
    "  filter(reordered==1) %>%\n",
    "  group_by( product_name) %>%\n",
    "  dplyr::summarize(perc = (n()/nrow(order_products_large)) * 100, cnt =n()) %>%\n",
    "  top_n(20,wt=cnt)    %>%\n",
    "  arrange(desc(perc)) %>%\n",
    "  ggplot(aes(x = reorder(product_name, -perc), y = cnt, fill = product_name)) +\n",
    "  geom_bar(stat = \"identity\") +\n",
    "  geom_text(aes(label=round(perc,2)), vjust=1.6, color=\"white\", size=3) +\n",
    "  labs( title = \"Top 20 Re-Ordered Items\",\n",
    "        subtitle = \"Lets go bananas\",\n",
    "        x = \"Product\", \n",
    "        y = \"Number of Units Sold\",\n",
    "        fill = \"Product\") +\n",
    "  labs(subtitle = NULL)+\n",
    "  theme(axis.text.x = element_text(angle = 45, hjust = 1), legend.position=\"none\")"
   ]
  },
  {
   "cell_type": "markdown",
   "metadata": {},
   "source": [
    "### CUSTOMERS"
   ]
  },
  {
   "cell_type": "code",
   "execution_count": 39,
   "metadata": {},
   "outputs": [
    {
     "data": {},
     "metadata": {},
     "output_type": "display_data"
    },
    {
     "data": {
      "image/png": "[encoded data removed]",
      "text/plain": [
       "plot without title"
      ]
     },
     "metadata": {},
     "output_type": "display_data"
    }
   ],
   "source": [
    "# How many Orders are customers placing?\n",
    "order_products_large %>%\n",
    "  group_by(user_id) %>%\n",
    "  dplyr::summarize(max_order = max(order_number)) %>%\n",
    "  group_by(max_order) %>%\n",
    "  dplyr::summarize(cnt = n()) %>%\n",
    "  arrange(max_order) %>%\n",
    "  ggplot(aes(x = max_order, y = cnt)) +\n",
    "  geom_bar(stat = \"identity\", fill=\"steelblue\") +\n",
    "  geom_text(aes(label=\"\"), vjust=1.6, color=\"white\", size=4) +\n",
    "  labs( title = \"Number of Orders placed by customers\",\n",
    "        subtitle = \"Lets go bananas\",\n",
    "        x = \"Number of Orders\", \n",
    "        y = \"Number of Customers\") +\n",
    "  labs(subtitle = NULL)+\n",
    "  theme(axis.text.x = element_text(angle = 0, hjust = 1))"
   ]
  },
  {
   "cell_type": "markdown",
   "metadata": {},
   "source": [
    "## <center><font color=red>3. PATH TO PURCHASE - Recommend products in the Product Detail Page (PDP)</font></center>"
   ]
  },
  {
   "cell_type": "markdown",
   "metadata": {},
   "source": [
    "### STEP 1: PREPARE DATA FOR ARULES MINING USING APRIORI"
   ]
  },
  {
   "cell_type": "code",
   "execution_count": 41,
   "metadata": {},
   "outputs": [
    {
     "data": {
      "text/html": [
       "<table>\n",
       "<thead><tr><th scope=col>order_dow</th><th scope=col>order_id</th><th scope=col>product_id</th><th scope=col>aisle_id</th><th scope=col>department_id</th><th scope=col>product_name</th><th scope=col>department</th><th scope=col>aisle</th><th scope=col>add_to_cart_order</th><th scope=col>reordered</th><th scope=col>user_id</th><th scope=col>eval_set</th><th scope=col>order_number</th><th scope=col>order_hour_of_day</th><th scope=col>days_since_prior_order</th><th scope=col>order_day</th></tr></thead>\n",
       "<tbody>\n",
       "\t<tr><td>0                                         </td><td>1900953                                   </td><td>20153                                     </td><td>100                                       </td><td>21                                        </td><td>Eat Your Colors Purples Puree Baby Food   </td><td>missing                                   </td><td>missing                                   </td><td>18                                        </td><td>0                                         </td><td>151991                                    </td><td>prior                                     </td><td>23                                        </td><td>17                                        </td><td>12                                        </td><td>Sun                                       </td></tr>\n",
       "\t<tr><td>0                                         </td><td>3194251                                   </td><td> 4846                                     </td><td> 38                                       </td><td> 1                                        </td><td>Weight Watchers Three Cheese Ziti Marinara</td><td>frozen                                    </td><td>frozen meals                              </td><td> 7                                        </td><td>1                                         </td><td> 52051                                    </td><td>prior                                     </td><td> 9                                        </td><td> 9                                        </td><td>30                                        </td><td>Sun                                       </td></tr>\n",
       "\t<tr><td>0                                         </td><td>2287684                                   </td><td>39877                                     </td><td> 24                                       </td><td> 4                                        </td><td>Organic Granny Smith Apple                </td><td>produce                                   </td><td>fresh fruits                              </td><td> 8                                        </td><td>1                                         </td><td> 20939                                    </td><td>prior                                     </td><td>19                                        </td><td> 8                                        </td><td> 5                                        </td><td>Sun                                       </td></tr>\n",
       "\t<tr><td>0                                         </td><td>1454788                                   </td><td>43555                                     </td><td>105                                       </td><td>13                                        </td><td>Arthur Chocolate Chip Cookie Mix          </td><td>pantry                                    </td><td>doughs gelatins bake mixes                </td><td>12                                        </td><td>1                                         </td><td> 39507                                    </td><td>prior                                     </td><td> 6                                        </td><td>10                                        </td><td> 7                                        </td><td>Sun                                       </td></tr>\n",
       "\t<tr><td>0                                         </td><td>1982590                                   </td><td> 5456                                     </td><td> 96                                       </td><td>20                                        </td><td>Green Tea With Ginseng and Honey          </td><td>deli                                      </td><td>lunch meat                                </td><td>14                                        </td><td>0                                         </td><td>144281                                    </td><td>prior                                     </td><td> 4                                        </td><td>12                                        </td><td>30                                        </td><td>Sun                                       </td></tr>\n",
       "\t<tr><td>0                                         </td><td> 891046                                   </td><td>23594                                     </td><td> 51                                       </td><td>13                                        </td><td>Medium Salsa                              </td><td>pantry                                    </td><td>preserved dips spreads                    </td><td> 7                                        </td><td>0                                         </td><td> 28675                                    </td><td>prior                                     </td><td> 9                                        </td><td>15                                        </td><td>30                                        </td><td>Sun                                       </td></tr>\n",
       "</tbody>\n",
       "</table>\n"
      ],
      "text/latex": [
       "\\begin{tabular}{r|llllllllllllllll}\n",
       " order\\_dow & order\\_id & product\\_id & aisle\\_id & department\\_id & product\\_name & department & aisle & add\\_to\\_cart\\_order & reordered & user\\_id & eval\\_set & order\\_number & order\\_hour\\_of\\_day & days\\_since\\_prior\\_order & order\\_day\\\\\n",
       "\\hline\n",
       "\t 0                                          & 1900953                                    & 20153                                      & 100                                        & 21                                         & Eat Your Colors Purples Puree Baby Food    & missing                                    & missing                                    & 18                                         & 0                                          & 151991                                     & prior                                      & 23                                         & 17                                         & 12                                         & Sun                                       \\\\\n",
       "\t 0                                          & 3194251                                    &  4846                                      &  38                                        &  1                                         & Weight Watchers Three Cheese Ziti Marinara & frozen                                     & frozen meals                               &  7                                         & 1                                          &  52051                                     & prior                                      &  9                                         &  9                                         & 30                                         & Sun                                       \\\\\n",
       "\t 0                                          & 2287684                                    & 39877                                      &  24                                        &  4                                         & Organic Granny Smith Apple                 & produce                                    & fresh fruits                               &  8                                         & 1                                          &  20939                                     & prior                                      & 19                                         &  8                                         &  5                                         & Sun                                       \\\\\n",
       "\t 0                                          & 1454788                                    & 43555                                      & 105                                        & 13                                         & Arthur Chocolate Chip Cookie Mix           & pantry                                     & doughs gelatins bake mixes                 & 12                                         & 1                                          &  39507                                     & prior                                      &  6                                         & 10                                         &  7                                         & Sun                                       \\\\\n",
       "\t 0                                          & 1982590                                    &  5456                                      &  96                                        & 20                                         & Green Tea With Ginseng and Honey           & deli                                       & lunch meat                                 & 14                                         & 0                                          & 144281                                     & prior                                      &  4                                         & 12                                         & 30                                         & Sun                                       \\\\\n",
       "\t 0                                          &  891046                                    & 23594                                      &  51                                        & 13                                         & Medium Salsa                               & pantry                                     & preserved dips spreads                     &  7                                         & 0                                          &  28675                                     & prior                                      &  9                                         & 15                                         & 30                                         & Sun                                       \\\\\n",
       "\\end{tabular}\n"
      ],
      "text/markdown": [
       "\n",
       "order_dow | order_id | product_id | aisle_id | department_id | product_name | department | aisle | add_to_cart_order | reordered | user_id | eval_set | order_number | order_hour_of_day | days_since_prior_order | order_day | \n",
       "|---|---|---|---|---|---|\n",
       "| 0                                          | 1900953                                    | 20153                                      | 100                                        | 21                                         | Eat Your Colors Purples Puree Baby Food    | missing                                    | missing                                    | 18                                         | 0                                          | 151991                                     | prior                                      | 23                                         | 17                                         | 12                                         | Sun                                        | \n",
       "| 0                                          | 3194251                                    |  4846                                      |  38                                        |  1                                         | Weight Watchers Three Cheese Ziti Marinara | frozen                                     | frozen meals                               |  7                                         | 1                                          |  52051                                     | prior                                      |  9                                         |  9                                         | 30                                         | Sun                                        | \n",
       "| 0                                          | 2287684                                    | 39877                                      |  24                                        |  4                                         | Organic Granny Smith Apple                 | produce                                    | fresh fruits                               |  8                                         | 1                                          |  20939                                     | prior                                      | 19                                         |  8                                         |  5                                         | Sun                                        | \n",
       "| 0                                          | 1454788                                    | 43555                                      | 105                                        | 13                                         | Arthur Chocolate Chip Cookie Mix           | pantry                                     | doughs gelatins bake mixes                 | 12                                         | 1                                          |  39507                                     | prior                                      |  6                                         | 10                                         |  7                                         | Sun                                        | \n",
       "| 0                                          | 1982590                                    |  5456                                      |  96                                        | 20                                         | Green Tea With Ginseng and Honey           | deli                                       | lunch meat                                 | 14                                         | 0                                          | 144281                                     | prior                                      |  4                                         | 12                                         | 30                                         | Sun                                        | \n",
       "| 0                                          |  891046                                    | 23594                                      |  51                                        | 13                                         | Medium Salsa                               | pantry                                     | preserved dips spreads                     |  7                                         | 0                                          |  28675                                     | prior                                      |  9                                         | 15                                         | 30                                         | Sun                                        | \n",
       "\n",
       "\n"
      ],
      "text/plain": [
       "  order_dow order_id product_id aisle_id department_id\n",
       "1 0         1900953  20153      100      21           \n",
       "2 0         3194251   4846       38       1           \n",
       "3 0         2287684  39877       24       4           \n",
       "4 0         1454788  43555      105      13           \n",
       "5 0         1982590   5456       96      20           \n",
       "6 0          891046  23594       51      13           \n",
       "  product_name                               department\n",
       "1 Eat Your Colors Purples Puree Baby Food    missing   \n",
       "2 Weight Watchers Three Cheese Ziti Marinara frozen    \n",
       "3 Organic Granny Smith Apple                 produce   \n",
       "4 Arthur Chocolate Chip Cookie Mix           pantry    \n",
       "5 Green Tea With Ginseng and Honey           deli      \n",
       "6 Medium Salsa                               pantry    \n",
       "  aisle                      add_to_cart_order reordered user_id eval_set\n",
       "1 missing                    18                0         151991  prior   \n",
       "2 frozen meals                7                1          52051  prior   \n",
       "3 fresh fruits                8                1          20939  prior   \n",
       "4 doughs gelatins bake mixes 12                1          39507  prior   \n",
       "5 lunch meat                 14                0         144281  prior   \n",
       "6 preserved dips spreads      7                0          28675  prior   \n",
       "  order_number order_hour_of_day days_since_prior_order order_day\n",
       "1 23           17                12                     Sun      \n",
       "2  9            9                30                     Sun      \n",
       "3 19            8                 5                     Sun      \n",
       "4  6           10                 7                     Sun      \n",
       "5  4           12                30                     Sun      \n",
       "6  9           15                30                     Sun      "
      ]
     },
     "metadata": {},
     "output_type": "display_data"
    }
   ],
   "source": [
    "# Step 1.1: We will use the order_product_large dataframe which is a denormalized \n",
    "#            version based on joining all the source datasets\n",
    "head(order_products_large)"
   ]
  },
  {
   "cell_type": "code",
   "execution_count": 42,
   "metadata": {},
   "outputs": [
    {
     "name": "stdout",
     "output_type": "stream",
     "text": [
      "[1] \"Do not do this step. It has been done before\"\n"
     ]
    }
   ],
   "source": [
    "# Step 1.2: Key essential spec before generating the basket format dataset is to remove \"commas\" from the product_name\n",
    "remove_bad_chars <- function (x, y) { gsub(y, \"\", x) }\n",
    "\n",
    "#order_products_large$product_name <- remove_bad_chars(order_products_large$product_name, \",\")\n",
    "\n",
    "print(\"Do not do this step. It has been done before\")"
   ]
  },
  {
   "cell_type": "code",
   "execution_count": 101,
   "metadata": {},
   "outputs": [
    {
     "name": "stdout",
     "output_type": "stream",
     "text": [
      "[1] 1484705\n",
      "[1] TRUE\n"
     ]
    },
    {
     "data": {
      "text/html": [
       "<table>\n",
       "<thead><tr><th scope=col>items</th></tr></thead>\n",
       "<tbody>\n",
       "\t<tr><td>\"Natural Sweetener\",\"Organic Egg Whites\",\"Carrots\",\"Coconut Butter\",\"All Natural No Stir Creamy Almond Butter\",\"Classic Blend Cole Slaw\",\"Original Unflavored Gelatine Mix\",\"Garlic Powder\",\"Michigan Organic Kale\"                                                                                                                                                                                                                                                                                                                                                                                                                                 </td></tr>\n",
       "\t<tr><td>\"Organic Ezekiel 49 Bread Cinnamon Raisin\",\"Unsweetened Almondmilk\",\"Lemons\",\"Air Chilled Organic Boneless Skinless Chicken Breasts\",\"Organic Baby Spinach\",\"Organic Ginger Root\",\"Total 2% with Strawberry Lowfat Greek Strained Yogurt\"                                                                                                                                                                                                                                                                                                                                                                                                           </td></tr>\n",
       "\t<tr><td><span style=white-space:pre-wrap>\"Plain Pre-Sliced Bagels\",\"Nutri-Grain Soft Baked Strawberry Cereal Breakfast Bars\",\"Kellogg's Nutri-Grain Apple Cinnamon Cereal\",\"Sugarfree Energy Drink\",\"Kellogg's Nutri-Grain Blueberry Cereal\",\"Goldfish Cheddar Baked Snack Crackers\",\"Honey/Lemon Cough Drops\",\"Tiny Twists Pretzels\",\"Original Orange Juice\",\"Oats &amp; Chocolate Chewy Bars\",\"Energy Drink\",\"Chewy 25% Low Sugar Chocolate Chip Granola\",\"Traditional Snack Mix\"                                                                                                                                                                                                              </span></td></tr>\n",
       "\t<tr><td><span style=white-space:pre-wrap>\"Bag of Organic Lemons\",\"Dairy Milk Fruit &amp; Nut Chocolate Bar\",\"Clementines\",\"2% Reduced Fat Milk\",\"Natural Artesian Water Mini &amp; Mobile\",\"Macaroni And Cheese\",\"Everyday  Facial Tissues\",\"Artichokes\",\"One Ply Choose A Size Big Roll Paper Towel Rolls\",\"Original Black Box Tablewater Cracker\",\"Just Crisp Parmesan\",\"Boneless Skinless Chicken Breast Fillets\",\"Bag of Organic Bananas\",\"Organic Raspberries\",\"Biscuits Orange Pim's\",\"Mini Original Babybel Cheese\",\"Organic Hass Avocado\",\"French Lavender Hand Wash\",\"Spaghetti Pasta\",\"Wafer Chocolate\",\"Apricot Preserves\",\"Meyer Lemon\",\"Sensitive Toilet Paper\",\"American Slices Cheese\"</span></td></tr>\n",
       "\t<tr><td>\"Dryer Sheets Geranium Scent\",\"Clean Day Lavender Scent Room Freshener Spray\",\"Cleanse\"                                                                                                                                                                                                                                                                                                                                                                                                                                                                                                                                                             </td></tr>\n",
       "\t<tr><td>\"Pineapple Chunks\",\"Orange Juice\"                                                                                                                                                                                                                                                                                                                                                                                                                                                                                                                                                                                                                   </td></tr>\n",
       "</tbody>\n",
       "</table>\n"
      ],
      "text/latex": [
       "\\begin{tabular}{r|l}\n",
       " items\\\\\n",
       "\\hline\n",
       "\t \"Natural Sweetener\",\"Organic Egg Whites\",\"Carrots\",\"Coconut Butter\",\"All Natural No Stir Creamy Almond Butter\",\"Classic Blend Cole Slaw\",\"Original Unflavored Gelatine Mix\",\"Garlic Powder\",\"Michigan Organic Kale\"                                                                                                                                                                                                                                                                                                                                                                                                                                 \\\\\n",
       "\t \"Organic Ezekiel 49 Bread Cinnamon Raisin\",\"Unsweetened Almondmilk\",\"Lemons\",\"Air Chilled Organic Boneless Skinless Chicken Breasts\",\"Organic Baby Spinach\",\"Organic Ginger Root\",\"Total 2\\% with Strawberry Lowfat Greek Strained Yogurt\"                                                                                                                                                                                                                                                                                                                                                                                                           \\\\\n",
       "\t \"Plain Pre-Sliced Bagels\",\"Nutri-Grain Soft Baked Strawberry Cereal Breakfast Bars\",\"Kellogg's Nutri-Grain Apple Cinnamon Cereal\",\"Sugarfree Energy Drink\",\"Kellogg's Nutri-Grain Blueberry Cereal\",\"Goldfish Cheddar Baked Snack Crackers\",\"Honey/Lemon Cough Drops\",\"Tiny Twists Pretzels\",\"Original Orange Juice\",\"Oats \\& Chocolate Chewy Bars\",\"Energy Drink\",\"Chewy 25\\% Low Sugar Chocolate Chip Granola\",\"Traditional Snack Mix\"                                                                                                                                                                                                              \\\\\n",
       "\t \"Bag of Organic Lemons\",\"Dairy Milk Fruit \\& Nut Chocolate Bar\",\"Clementines\",\"2\\% Reduced Fat Milk\",\"Natural Artesian Water Mini \\& Mobile\",\"Macaroni And Cheese\",\"Everyday  Facial Tissues\",\"Artichokes\",\"One Ply Choose A Size Big Roll Paper Towel Rolls\",\"Original Black Box Tablewater Cracker\",\"Just Crisp Parmesan\",\"Boneless Skinless Chicken Breast Fillets\",\"Bag of Organic Bananas\",\"Organic Raspberries\",\"Biscuits Orange Pim's\",\"Mini Original Babybel Cheese\",\"Organic Hass Avocado\",\"French Lavender Hand Wash\",\"Spaghetti Pasta\",\"Wafer Chocolate\",\"Apricot Preserves\",\"Meyer Lemon\",\"Sensitive Toilet Paper\",\"American Slices Cheese\"\\\\\n",
       "\t \"Dryer Sheets Geranium Scent\",\"Clean Day Lavender Scent Room Freshener Spray\",\"Cleanse\"                                                                                                                                                                                                                                                                                                                                                                                                                                                                                                                                                             \\\\\n",
       "\t \"Pineapple Chunks\",\"Orange Juice\"                                                                                                                                                                                                                                                                                                                                                                                                                                                                                                                                                                                                                   \\\\\n",
       "\\end{tabular}\n"
      ],
      "text/markdown": [
       "\n",
       "items | \n",
       "|---|---|---|---|---|---|\n",
       "| \"Natural Sweetener\",\"Organic Egg Whites\",\"Carrots\",\"Coconut Butter\",\"All Natural No Stir Creamy Almond Butter\",\"Classic Blend Cole Slaw\",\"Original Unflavored Gelatine Mix\",\"Garlic Powder\",\"Michigan Organic Kale\"                                                                                                                                                                                                                                                                                                                                                                                                                                  | \n",
       "| \"Organic Ezekiel 49 Bread Cinnamon Raisin\",\"Unsweetened Almondmilk\",\"Lemons\",\"Air Chilled Organic Boneless Skinless Chicken Breasts\",\"Organic Baby Spinach\",\"Organic Ginger Root\",\"Total 2% with Strawberry Lowfat Greek Strained Yogurt\"                                                                                                                                                                                                                                                                                                                                                                                                            | \n",
       "| \"Plain Pre-Sliced Bagels\",\"Nutri-Grain Soft Baked Strawberry Cereal Breakfast Bars\",\"Kellogg's Nutri-Grain Apple Cinnamon Cereal\",\"Sugarfree Energy Drink\",\"Kellogg's Nutri-Grain Blueberry Cereal\",\"Goldfish Cheddar Baked Snack Crackers\",\"Honey/Lemon Cough Drops\",\"Tiny Twists Pretzels\",\"Original Orange Juice\",\"Oats & Chocolate Chewy Bars\",\"Energy Drink\",\"Chewy 25% Low Sugar Chocolate Chip Granola\",\"Traditional Snack Mix\"                                                                                                                                                                                                               | \n",
       "| \"Bag of Organic Lemons\",\"Dairy Milk Fruit & Nut Chocolate Bar\",\"Clementines\",\"2% Reduced Fat Milk\",\"Natural Artesian Water Mini & Mobile\",\"Macaroni And Cheese\",\"Everyday  Facial Tissues\",\"Artichokes\",\"One Ply Choose A Size Big Roll Paper Towel Rolls\",\"Original Black Box Tablewater Cracker\",\"Just Crisp Parmesan\",\"Boneless Skinless Chicken Breast Fillets\",\"Bag of Organic Bananas\",\"Organic Raspberries\",\"Biscuits Orange Pim's\",\"Mini Original Babybel Cheese\",\"Organic Hass Avocado\",\"French Lavender Hand Wash\",\"Spaghetti Pasta\",\"Wafer Chocolate\",\"Apricot Preserves\",\"Meyer Lemon\",\"Sensitive Toilet Paper\",\"American Slices Cheese\" | \n",
       "| \"Dryer Sheets Geranium Scent\",\"Clean Day Lavender Scent Room Freshener Spray\",\"Cleanse\"                                                                                                                                                                                                                                                                                                                                                                                                                                                                                                                                                              | \n",
       "| \"Pineapple Chunks\",\"Orange Juice\"                                                                                                                                                                                                                                                                                                                                                                                                                                                                                                                                                                                                                    | \n",
       "\n",
       "\n"
      ],
      "text/plain": [
       "  items                                                                                                                                                                                                                                                                                                                                                                                                                                                                                                                                                                                                                                               \n",
       "1 \"Natural Sweetener\",\"Organic Egg Whites\",\"Carrots\",\"Coconut Butter\",\"All Natural No Stir Creamy Almond Butter\",\"Classic Blend Cole Slaw\",\"Original Unflavored Gelatine Mix\",\"Garlic Powder\",\"Michigan Organic Kale\"                                                                                                                                                                                                                                                                                                                                                                                                                                 \n",
       "2 \"Organic Ezekiel 49 Bread Cinnamon Raisin\",\"Unsweetened Almondmilk\",\"Lemons\",\"Air Chilled Organic Boneless Skinless Chicken Breasts\",\"Organic Baby Spinach\",\"Organic Ginger Root\",\"Total 2% with Strawberry Lowfat Greek Strained Yogurt\"                                                                                                                                                                                                                                                                                                                                                                                                           \n",
       "3 \"Plain Pre-Sliced Bagels\",\"Nutri-Grain Soft Baked Strawberry Cereal Breakfast Bars\",\"Kellogg's Nutri-Grain Apple Cinnamon Cereal\",\"Sugarfree Energy Drink\",\"Kellogg's Nutri-Grain Blueberry Cereal\",\"Goldfish Cheddar Baked Snack Crackers\",\"Honey/Lemon Cough Drops\",\"Tiny Twists Pretzels\",\"Original Orange Juice\",\"Oats & Chocolate Chewy Bars\",\"Energy Drink\",\"Chewy 25% Low Sugar Chocolate Chip Granola\",\"Traditional Snack Mix\"                                                                                                                                                                                                              \n",
       "4 \"Bag of Organic Lemons\",\"Dairy Milk Fruit & Nut Chocolate Bar\",\"Clementines\",\"2% Reduced Fat Milk\",\"Natural Artesian Water Mini & Mobile\",\"Macaroni And Cheese\",\"Everyday  Facial Tissues\",\"Artichokes\",\"One Ply Choose A Size Big Roll Paper Towel Rolls\",\"Original Black Box Tablewater Cracker\",\"Just Crisp Parmesan\",\"Boneless Skinless Chicken Breast Fillets\",\"Bag of Organic Bananas\",\"Organic Raspberries\",\"Biscuits Orange Pim's\",\"Mini Original Babybel Cheese\",\"Organic Hass Avocado\",\"French Lavender Hand Wash\",\"Spaghetti Pasta\",\"Wafer Chocolate\",\"Apricot Preserves\",\"Meyer Lemon\",\"Sensitive Toilet Paper\",\"American Slices Cheese\"\n",
       "5 \"Dryer Sheets Geranium Scent\",\"Clean Day Lavender Scent Room Freshener Spray\",\"Cleanse\"                                                                                                                                                                                                                                                                                                                                                                                                                                                                                                                                                             \n",
       "6 \"Pineapple Chunks\",\"Orange Juice\"                                                                                                                                                                                                                                                                                                                                                                                                                                                                                                                                                                                                                   "
      ]
     },
     "metadata": {},
     "output_type": "display_data"
    }
   ],
   "source": [
    "# Step 1.3: Create \"basket\" format\n",
    "\n",
    "# this way is very slow, try dplyr\n",
    "# transactionData <- ddply(tmp, #dataframe\n",
    "#                          c(\"order_id\"), #variables_to_be_used_to_split_data_frame\n",
    "#                          function(df1)paste(tmp$product_name, collapse=\",\")) #function_to_be_applied\n",
    "\n",
    "# Note: try this as this may be faster\n",
    "transactionData <- select(order_products_large, order_id, product_name)  %>% \n",
    "  group_by(order_id) %>% \n",
    "  dplyr::summarize(items = paste0(product_name,collapse = \",\"))\n",
    "\n",
    "# order_id, product_name will not be of any use in the rule mining, set to NULL\n",
    "transactionData$order_id <- NULL\n",
    "\n",
    "# We see that we have the same number of transactions as per the number of order_ids \n",
    "print(nrow(transactionData))\n",
    "print(nrow(transactionData) == length(unique(order_products_large$order_id)))\n",
    "head(transactionData)\n",
    "\n",
    "fwrite(transactionData,\"basket_transactions_full.csv\", quote=FALSE, row.names=FALSE, col.names=FALSE)\n"
   ]
  },
  {
   "cell_type": "markdown",
   "metadata": {},
   "source": []
  },
  {
   "cell_type": "code",
   "execution_count": null,
   "metadata": {},
   "outputs": [],
   "source": [
    "# Step 1.4: Read the \"basket\" data into an object of the transaction class, using read.transactions of the arules package\n",
    "\n",
    "tr <- read.transactions('basket_transactions_full.csv', cols = NULL,\n",
    "                        format='basket', sep=',', quote = \"\\\"\", rm.duplicates = TRUE) #sep tell how the items are separated  \n",
    "# rm.duplicates = TRUE means Duplicate items should be removed from transactions\n",
    "\n",
    "#warnings()\n",
    "\n",
    "tr\n",
    "\n",
    "# save the transaction Object for future use, to minimize the steps\n",
    " setwd(\"C:\\\\Users\\\\somsa\\\\Documents\\\\Trainings\\\\York_University\\\\1_BigDataAnalytics\\\\CSDA1050 Advanced Analytics Capstone Course\\\\Capstone Project\\\\PreparedDataset\")\n",
    " saveRDS(tr, file = \"transactionData.rds\")\n",
    " tr_read <- readRDS(file=\"transactionData.rds\")"
   ]
  },
  {
   "cell_type": "markdown",
   "metadata": {},
   "source": [
    "### STEP 2: VISUALIZE ITEM FREQUENCY\n",
    "\n",
    "Before applying Arules mining, we can visualize: \n",
    "* Absolute Frequency of Top 20 Items – Plot with Frequency of each top 20 items\n",
    "* Relative Frequency of Top 20 Items – How many times the items have appeared as compared to others.\n"
   ]
  },
  {
   "cell_type": "code",
   "execution_count": 103,
   "metadata": {},
   "outputs": [
    {
     "data": {
      "image/png": "[encoded data removed]",
      "text/plain": [
       "Plot with title \"Absolute Item Frequency Plot\""
      ]
     },
     "metadata": {},
     "output_type": "display_data"
    }
   ],
   "source": [
    "itemFrequencyPlot(tr,topN=20, type=\"absolute\", col=brewer.pal(8,'Pastel2'), main=\"Absolute Item Frequency Plot\")"
   ]
  },
  {
   "cell_type": "code",
   "execution_count": 104,
   "metadata": {},
   "outputs": [
    {
     "data": {
      "image/png": "[encoded data removed]",
      "text/plain": [
       "Plot with title \"Relative Item Frequency Plot\""
      ]
     },
     "metadata": {},
     "output_type": "display_data"
    }
   ],
   "source": [
    "itemFrequencyPlot(tr,topN=20, type=\"relative\", col=brewer.pal(8,'Pastel2'), main=\"Relative Item Frequency Plot\")"
   ]
  },
  {
   "cell_type": "markdown",
   "metadata": {},
   "source": [
    "### STEP 3: GENERATE RULES USING APRIORI"
   ]
  },
  {
   "cell_type": "markdown",
   "metadata": {},
   "source": [
    "* Choosing the Support, Confidence, Maxlength (This Section Needs Further Work)\n",
    "> For now, we will go with:\n",
    "\n",
    "> Parameter  | Setting\n",
    "------------- | -------------\n",
    "Support:  | 0.1 %\n",
    "Absolute Minimum Support Count:  | 1484 – We consider the itemset only if it exists in at least 1484 of 1484705 transactions \n",
    "Confidence:  | 30% - Association Rule X -> Y is oncluded, only if itemset Y exists in at least 30% of the transactions where itemset X exists.\n",
    "Maxlength:  | Kept at default of 10\n"
   ]
  },
  {
   "cell_type": "code",
   "execution_count": 105,
   "metadata": {},
   "outputs": [
    {
     "name": "stdout",
     "output_type": "stream",
     "text": [
      "Apriori\n",
      "\n",
      "Parameter specification:\n",
      " confidence minval smax arem  aval originalSupport maxtime support minlen\n",
      "        0.3    0.1    1 none FALSE            TRUE       5   0.001      1\n",
      " maxlen target   ext\n",
      "     10  rules FALSE\n",
      "\n",
      "Algorithmic control:\n",
      " filter tree heap memopt load sort verbose\n",
      "    0.1 TRUE TRUE  FALSE TRUE    2    TRUE\n",
      "\n",
      "Absolute minimum support count: 1484 \n",
      "\n",
      "set item appearances ...[0 item(s)] done [0.00s].\n",
      "set transactions ...[52703 item(s), 1484705 transaction(s)] done [9.86s].\n",
      "sorting and recoding items ... [1708 item(s)] done [0.20s].\n",
      "creating transaction tree ... done [1.71s].\n",
      "checking subsets of size 1 2 3 4 done [0.65s].\n",
      "writing ... [173 rule(s)] done [0.00s].\n",
      "creating S4 object  ... done [0.33s].\n"
     ]
    },
    {
     "data": {
      "text/plain": [
       "set of 110 rules\n",
       "\n",
       "rule length distribution (lhs + rhs):sizes\n",
       " 2  3 \n",
       "39 71 \n",
       "\n",
       "   Min. 1st Qu.  Median    Mean 3rd Qu.    Max. \n",
       "  2.000   2.000   3.000   2.645   3.000   3.000 \n",
       "\n",
       "summary of quality measures:\n",
       "    support           confidence          lift            count      \n",
       " Min.   :0.001006   Min.   :0.3001   Min.   : 2.050   Min.   : 1493  \n",
       " 1st Qu.:0.001139   1st Qu.:0.3197   1st Qu.: 2.552   1st Qu.: 1691  \n",
       " Median :0.001390   Median :0.3346   Median : 2.875   Median : 2063  \n",
       " Mean   :0.002095   Mean   :0.3464   Mean   : 8.405   Mean   : 3110  \n",
       " 3rd Qu.:0.001955   3rd Qu.:0.3642   3rd Qu.: 3.736   3rd Qu.: 2902  \n",
       " Max.   :0.016662   Max.   :0.4625   Max.   :76.322   Max.   :24738  \n",
       "\n",
       "mining info:\n",
       " data ntransactions support confidence\n",
       "   tr       1484705   0.001        0.3"
      ]
     },
     "metadata": {},
     "output_type": "display_data"
    }
   ],
   "source": [
    "# 3.1 - Run Apriori\n",
    "association.rules<-apriori(tr, parameter=list(support=0.001, conf=0.3, maxlen=10))\n",
    "# apriori will take tr as the transaction object on which mining is to be applied.parameter will allow you to set min_sup and min_confidence.\n",
    "# summary(association.rules)\n",
    "\n",
    "# 3.2 - Remove redundant rules - Remove redundant rules which are subset of larger rules\n",
    "subset.rules <- which(colSums(is.subset(association.rules, association.rules)) > 1) # get subset rules in a vector\n",
    "#head(subset.rules)\n",
    "#length(subset.rules) \n",
    "\n",
    "# Final List of rules\n",
    "subset.association.rules <- association.rules[-subset.rules]\n",
    "summary(subset.association.rules) # we are left with 92 unique association rules\n",
    "\n",
    "# Write the wrules in a csv\n",
    "write(subset.association.rules, file = \"AssociationRules.csv\", sep =\",\")"
   ]
  },
  {
   "cell_type": "code",
   "execution_count": 106,
   "metadata": {},
   "outputs": [
    {
     "name": "stdout",
     "output_type": "stream",
     "text": [
      "     lhs                                           rhs                                                                       support confidence      lift count\n",
      "[1]  {Zero Calorie Cola}                        => {Neo To Go! No-Touch Spray First Aid Antiseptic/Pain Relieving Spray} 0.001231895  0.4624526 41.282207  1829\n",
      "[2]  {Apples}                                   => {Clementines}                                                         0.001299922  0.3286225 34.198324  1930\n",
      "[3]  {Lemon Sparkling Water}                    => {Grapefruit Sparkling Water}                                          0.001054755  0.3546999 76.322420  1566\n",
      "[4]  {Non Fat Acai & Mixed Berries Yogurt}      => {Icelandic Style Skyr Blueberry Non-fat Yogurt}                       0.001211689  0.4529204 76.190035  1799\n",
      "[5]  {Medium Navel Orange}                      => {Banana}                                                              0.001012322  0.3242019  2.211897  1503\n",
      "[6]  {Mandarin Oranges}                         => {Banana}                                                              0.001138947  0.3247551  2.215672  1691\n",
      "[7]  {Nonfat Icelandic Style Strawberry Yogurt} => {Non Fat Raspberry Yogurt}                                            0.001172624  0.3572015 70.806251  1741\n",
      "[8]  {Nonfat Icelandic Style Strawberry Yogurt} => {Vanilla Skyr Nonfat Yogurt}                                          0.001206974  0.3676652 64.969567  1792\n",
      "[9]  {Nonfat Icelandic Style Strawberry Yogurt} => {Icelandic Style Skyr Blueberry Non-fat Yogurt}                       0.001380746  0.4205991 70.752955  2050\n",
      "[10] {Organic Honey Sweet Whole Wheat Bread}    => {Bag of Organic Bananas}                                              0.001145009  0.3138268  2.655702  1700\n"
     ]
    }
   ],
   "source": [
    "# There are 92 rules, lets print only top 10\n",
    "inspect(subset.association.rules[1:10]) "
   ]
  },
  {
   "cell_type": "code",
   "execution_count": 107,
   "metadata": {},
   "outputs": [
    {
     "name": "stdout",
     "output_type": "stream",
     "text": [
      "Top 10 rules by lift:\n",
      "\n",
      "     lhs                                                   rhs                                                                       support confidence     lift count\n",
      "[1]  {Lemon Sparkling Water}                            => {Grapefruit Sparkling Water}                                          0.001054755  0.3546999 76.32242  1566\n",
      "[2]  {Non Fat Acai & Mixed Berries Yogurt}              => {Icelandic Style Skyr Blueberry Non-fat Yogurt}                       0.001211689  0.4529204 76.19003  1799\n",
      "[3]  {Nonfat Icelandic Style Strawberry Yogurt}         => {Non Fat Raspberry Yogurt}                                            0.001172624  0.3572015 70.80625  1741\n",
      "[4]  {Nonfat Icelandic Style Strawberry Yogurt}         => {Icelandic Style Skyr Blueberry Non-fat Yogurt}                       0.001380746  0.4205991 70.75296  2050\n",
      "[5]  {Nonfat Icelandic Style Strawberry Yogurt}         => {Vanilla Skyr Nonfat Yogurt}                                          0.001206974  0.3676652 64.96957  1792\n",
      "[6]  {Non Fat Raspberry Yogurt}                         => {Vanilla Skyr Nonfat Yogurt}                                          0.001586847  0.3145527 55.58415  2356\n",
      "[7]  {Total 2% Lowfat Greek Strained Yogurt with Peach} => {Total 2% Lowfat Greek Strained Yogurt With Blueberry}                0.001941800  0.3129614 48.06613  2883\n",
      "[8]  {Total 2% Lowfat Greek Strained Yogurt with Peach} => {Total 2% with Strawberry Lowfat Greek Strained Yogurt}               0.002484669  0.4004559 42.92534  3689\n",
      "[9]  {Zero Calorie Cola}                                => {Neo To Go! No-Touch Spray First Aid Antiseptic/Pain Relieving Spray} 0.001231895  0.4624526 41.28221  1829\n",
      "[10] {Apples}                                           => {Clementines}                                                         0.001299922  0.3286225 34.19832  1930\n"
     ]
    }
   ],
   "source": [
    "# 3.3 - Inspect Rules\n",
    "# Top 10 rules by lift\n",
    "cat(\"Top 10 rules by lift:\")\n",
    "cat(\"\\n\")\n",
    "cat(\"\\n\")\n",
    "inspect(head(subset.association.rules, n = 10, by = \"lift\"))"
   ]
  },
  {
   "cell_type": "code",
   "execution_count": 111,
   "metadata": {},
   "outputs": [
    {
     "name": "stdout",
     "output_type": "stream",
     "text": [
      "Top 10 rules by support:\n",
      "\n",
      "     lhs                                       rhs                          support confidence     lift count\n",
      "[1]  {Organic Avocado}                      => {Banana}                 0.016661896  0.3019591 2.060144 24738\n",
      "[2]  {Organic Fuji Apple}                   => {Banana}                 0.010550244  0.3782296 2.580506 15664\n",
      "[3]  {Cucumber Kirby}                       => {Banana}                 0.009818112  0.3284144 2.240637 14577\n",
      "[4]  {Honeycrisp Apple}                     => {Banana}                 0.008739110  0.3540439 2.415497 12975\n",
      "[5]  {Organic Large Extra Fancy Fuji Apple} => {Bag of Organic Bananas} 0.007321320  0.3112116 2.633571 10870\n",
      "[6]  {Organic Hass Avocado,                                                                                  \n",
      "      Organic Strawberries}                 => {Bag of Organic Bananas} 0.004667594  0.3679711 3.113888  6930\n",
      "[7]  {Organic D'Anjou Pears}                => {Bag of Organic Bananas} 0.004550399  0.3015264 2.551612  6756\n",
      "[8]  {Organic Navel Orange}                 => {Bag of Organic Bananas} 0.004321397  0.3245814 2.746710  6416\n",
      "[9]  {Broccoli Crown}                       => {Banana}                 0.004272903  0.3272971 2.233014  6344\n",
      "[10] {Bartlett Pears}                       => {Banana}                 0.004194773  0.3872412 2.641988  6228\n"
     ]
    }
   ],
   "source": [
    "# Top 10 rules by support\n",
    "cat(\"Top 10 rules by support:\")\n",
    "cat(\"\\n\")\n",
    "cat(\"\\n\")\n",
    "inspect(head(subset.association.rules, n = 10, by = \"support\"))"
   ]
  },
  {
   "cell_type": "code",
   "execution_count": 114,
   "metadata": {},
   "outputs": [
    {
     "name": "stdout",
     "output_type": "stream",
     "text": [
      "Top 10 rules by confidence:\n",
      "\n",
      "     lhs                                           rhs                                                                       support confidence      lift count\n",
      "[1]  {Zero Calorie Cola}                        => {Neo To Go! No-Touch Spray First Aid Antiseptic/Pain Relieving Spray} 0.001231895  0.4624526 41.282207  1829\n",
      "[2]  {Non Fat Acai & Mixed Berries Yogurt}      => {Icelandic Style Skyr Blueberry Non-fat Yogurt}                       0.001211689  0.4529204 76.190035  1799\n",
      "[3]  {Organic Yellow Squash}                    => {Organic Zucchini}                                                    0.001549803  0.4473173 13.641454  2301\n",
      "[4]  {Organic Hass Avocado,                                                                                                                                    \n",
      "      Organic Kiwi}                             => {Bag of Organic Bananas}                                              0.001289145  0.4386890  3.712325  1914\n",
      "[5]  {Organic Hass Avocado,                                                                                                                                    \n",
      "      Organic Raspberries}                      => {Bag of Organic Bananas}                                              0.003517197  0.4373168  3.700713  5222\n",
      "[6]  {Apple Honeycrisp Organic,                                                                                                                                \n",
      "      Organic Hass Avocado}                     => {Bag of Organic Bananas}                                              0.002044177  0.4270438  3.613780  3035\n",
      "[7]  {Large Lemon,                                                                                                                                             \n",
      "      Strawberries}                             => {Banana}                                                              0.001491205  0.4258511  2.905408  2214\n",
      "[8]  {Nonfat Icelandic Style Strawberry Yogurt} => {Icelandic Style Skyr Blueberry Non-fat Yogurt}                       0.001380746  0.4205991 70.752955  2050\n",
      "[9]  {Organic Lemon,                                                                                                                                           \n",
      "      Organic Raspberries}                      => {Bag of Organic Bananas}                                              0.001303963  0.4100826  3.470249  1936\n",
      "[10] {Organic Hass Avocado,                                                                                                                                    \n",
      "      Organic Unsweetened Almond Milk}          => {Bag of Organic Bananas}                                              0.001138273  0.4017114  3.399409  1690\n"
     ]
    }
   ],
   "source": [
    "# Top 10 rules by confidence\n",
    "cat(\"Top 10 rules by confidence:\")\n",
    "cat(\"\\n\")\n",
    "cat(\"\\n\")\n",
    "inspect(head(subset.association.rules, n = 10, by = \"confidence\"))"
   ]
  },
  {
   "cell_type": "code",
   "execution_count": 82,
   "metadata": {},
   "outputs": [
    {
     "name": "stdout",
     "output_type": "stream",
     "text": [
      "Itemsets in Antecedent (LHS)\n",
      " [1] \"{Mango Chunks}\"                                    \n",
      " [2] \"{Total 2% Lowfat Greek Strained Yogurt with Peach}\"\n",
      " [3] \"{Non Fat Raspberry Yogurt}\"                        \n",
      " [4] \"{Peach Pear Flavored Sparkling Water}\"             \n",
      " [5] \"{Asparation/Broccolini/Baby Broccoli}\"             \n",
      " [6] \"{Zero Calorie Cola}\"                               \n",
      " [7] \"{Large Yellow Flesh Nectarine}\"                    \n",
      " [8] \"{Gala Apples}\"                                     \n",
      " [9] \"{Apples}\"                                          \n",
      "[10] \"{Organic Nectarine}\"                               \n",
      "[11] \"{Berry Medley}\"                                    \n",
      "[12] \"{Organic Yellow Squash}\"                           \n",
      "[13] \"{Sparkling Water Berry}\"                           \n",
      "[14] \"{Frozen Broccoli Florets}\"                         \n",
      "[15] \"{Mandarin Oranges}\"                                \n",
      "[16] \"{Non Fat Acai & Mixed Berries Yogurt}\"             \n",
      "[17] \"{Nonfat Icelandic Style Strawberry Yogurt}\"        \n",
      "Itemsets in Consequent (RHS)\n",
      " [1] \"{Banana}\"                                                             \n",
      " [2] \"{Organic Strawberries}\"                                               \n",
      " [3] \"{Organic Zucchini}\"                                                   \n",
      " [4] \"{Sparkling Water Grapefruit}\"                                         \n",
      " [5] \"{Clementines}\"                                                        \n",
      " [6] \"{Neo To Go! No-Touch Spray First Aid Antiseptic/Pain Relieving Spray}\"\n",
      " [7] \"{Total 2% with Strawberry Lowfat Greek Strained Yogurt}\"              \n",
      " [8] \"{Total 2% Lowfat Greek Strained Yogurt With Blueberry}\"               \n",
      " [9] \"{Vanilla Skyr Nonfat Yogurt}\"                                         \n",
      "[10] \"{Non Fat Raspberry Yogurt}\"                                           \n",
      "[11] \"{Icelandic Style Skyr Blueberry Non-fat Yogurt}\"                      \n"
     ]
    },
    {
     "data": {
      "image/png": "[encoded data removed]",
      "text/plain": [
       "plot without title"
      ]
     },
     "metadata": {},
     "output_type": "display_data"
    }
   ],
   "source": [
    "plot(subset.association.rules[1:20],\n",
    "     method = \"matrix\",\n",
    "     control = list(reorder = 'similarity'))"
   ]
  },
  {
   "cell_type": "markdown",
   "metadata": {},
   "source": [
    "### STEP 4: Finding Rules  related to a given item - This is when we want to work on a specific product"
   ]
  },
  {
   "cell_type": "code",
   "execution_count": 83,
   "metadata": {},
   "outputs": [
    {
     "name": "stdout",
     "output_type": "stream",
     "text": [
      "Apriori\n",
      "\n",
      "Parameter specification:\n",
      " confidence minval smax arem  aval originalSupport maxtime support minlen\n",
      "        0.2    0.1    1 none FALSE            TRUE       5   0.001      1\n",
      " maxlen target   ext\n",
      "     10  rules FALSE\n",
      "\n",
      "Algorithmic control:\n",
      " filter tree heap memopt load sort verbose\n",
      "    0.1 TRUE TRUE  FALSE TRUE    2    TRUE\n",
      "\n",
      "Absolute minimum support count: 1484 \n",
      "\n",
      "set item appearances ...[1 item(s)] done [0.00s].\n",
      "set transactions ...[163536 item(s), 1484705 transaction(s)] done [10.75s].\n",
      "sorting and recoding items ... [1616 item(s)] done [0.22s].\n",
      "creating transaction tree ... done [1.55s].\n",
      "checking subsets of size 1 2 3 4 done [0.54s].\n",
      "writing ... [0 rule(s)] done [0.01s].\n",
      "creating S4 object  ... done [0.31s].\n"
     ]
    }
   ],
   "source": [
    "# A. To find what customers buy before buying 'Apples':\n",
    "#     Here rhs=Coconut Milk because you want to find out the probability of that in how many customers buy Apples along with other items\n",
    "apples.association.rules1 <- apriori(tr, parameter=list(supp=0.001, conf=0.2), appearance = list(default=\"lhs\", rhs=\"Apples\")) \n",
    "inspect(apples.association.rules1)"
   ]
  },
  {
   "cell_type": "code",
   "execution_count": 84,
   "metadata": {},
   "outputs": [
    {
     "name": "stdout",
     "output_type": "stream",
     "text": [
      "Apriori\n",
      "\n",
      "Parameter specification:\n",
      " confidence minval smax arem  aval originalSupport maxtime support minlen\n",
      "       0.25    0.1    1 none FALSE            TRUE       5   0.001      1\n",
      " maxlen target   ext\n",
      "     10  rules FALSE\n",
      "\n",
      "Algorithmic control:\n",
      " filter tree heap memopt load sort verbose\n",
      "    0.1 TRUE TRUE  FALSE TRUE    2    TRUE\n",
      "\n",
      "Absolute minimum support count: 1484 \n",
      "\n",
      "set item appearances ...[1 item(s)] done [0.00s].\n",
      "set transactions ...[163536 item(s), 1484705 transaction(s)] done [11.89s].\n",
      "sorting and recoding items ... [1616 item(s)] done [0.22s].\n",
      "creating transaction tree ... done [1.53s].\n",
      "checking subsets of size 1 2 done [0.06s].\n",
      "writing ... [1 rule(s)] done [0.00s].\n",
      "creating S4 object  ... done [0.34s].\n",
      "    lhs         rhs           support     confidence lift    count\n",
      "[1] {Apples} => {Clementines} 0.001213709 0.3163068  33.9249 1802 \n"
     ]
    }
   ],
   "source": [
    "# B. To answer the question Customers who bought Apples also bought....:\n",
    "#     Here lhs=Apples\n",
    "apples.association.rules2 <- apriori(tr, parameter=list(supp=0.001, conf=0.25), appearance = list(lhs=\"Apples\", default=\"rhs\")) \n",
    "inspect(apples.association.rules2)"
   ]
  },
  {
   "cell_type": "markdown",
   "metadata": {},
   "source": [
    "### STEP 5: RECOMMEND PRODUCTS IN PDP\n",
    "* As part of this step, we are able to recommend products in the PDP page. We are able to show remommended items, more like Customers who bought Product A, also bought Product B."
   ]
  },
  {
   "cell_type": "code",
   "execution_count": 86,
   "metadata": {},
   "outputs": [],
   "source": [
    "# This Function will run the apriori algorithm and give a result of all suggested items in the PDP page\n",
    "recommend_similar_products_v2 <- function(customer_bought) {\n",
    "  #arules::subset(subset.association.rules, subset = lhs %in% customer_bought)\n",
    "  df <- as(apriori(tr, parameter=list(supp=0.001, conf=0.2), appearance = list(lhs = customer_bought, default=\"rhs\")) , \"data.frame\")\n",
    "  df$lhs <- str_split_fixed(df$rules, ' => ', 2)[,1]\n",
    "  df$rhs <- str_split_fixed(df$rules, ' => ', 2)[,2]\n",
    "  \n",
    "  df$lhs  <- gsub('[{}]', '', df$lhs)\n",
    "  df$rhs  <- gsub('[{}]', '', df$rhs)\n",
    "  print (paste(\"Customers who bought [**\", customer_bought, \"**], Also Bought: \" ))\n",
    "  print(paste(\"[--\", df$rhs, \"--]\"))\n",
    "  return(unique(df$rhs))\n",
    "}"
   ]
  },
  {
   "cell_type": "code",
   "execution_count": 87,
   "metadata": {},
   "outputs": [
    {
     "name": "stdout",
     "output_type": "stream",
     "text": [
      "Apriori\n",
      "\n",
      "Parameter specification:\n",
      " confidence minval smax arem  aval originalSupport maxtime support minlen\n",
      "        0.2    0.1    1 none FALSE            TRUE       5   0.001      1\n",
      " maxlen target   ext\n",
      "     10  rules FALSE\n",
      "\n",
      "Algorithmic control:\n",
      " filter tree heap memopt load sort verbose\n",
      "    0.1 TRUE TRUE  FALSE TRUE    2    TRUE\n",
      "\n",
      "Absolute minimum support count: 1484 \n",
      "\n",
      "set item appearances ...[1 item(s)] done [0.00s].\n",
      "set transactions ...[163536 item(s), 1484705 transaction(s)] done [11.49s].\n",
      "sorting and recoding items ... [1616 item(s)] done [0.20s].\n",
      "creating transaction tree ... done [1.70s].\n",
      "checking subsets of size 1 2 done [0.15s].\n",
      "writing ... [1 rule(s)] done [0.00s].\n",
      "creating S4 object  ... done [0.32s].\n",
      "[1] \"Customers who bought [** Broccoli Crown **], Also Bought: \"\n",
      "[1] \"[-- Banana --]\"\n"
     ]
    },
    {
     "data": {
      "text/html": [
       "'Banana'"
      ],
      "text/latex": [
       "'Banana'"
      ],
      "text/markdown": [
       "'Banana'"
      ],
      "text/plain": [
       "[1] \"Banana\""
      ]
     },
     "metadata": {},
     "output_type": "display_data"
    }
   ],
   "source": [
    "recommend_similar_products_v2(\"Broccoli Crown\")"
   ]
  },
  {
   "cell_type": "code",
   "execution_count": 115,
   "metadata": {},
   "outputs": [
    {
     "name": "stdout",
     "output_type": "stream",
     "text": [
      "Apriori\n",
      "\n",
      "Parameter specification:\n",
      " confidence minval smax arem  aval originalSupport maxtime support minlen\n",
      "        0.2    0.1    1 none FALSE            TRUE       5   0.001      1\n",
      " maxlen target   ext\n",
      "     10  rules FALSE\n",
      "\n",
      "Algorithmic control:\n",
      " filter tree heap memopt load sort verbose\n",
      "    0.1 TRUE TRUE  FALSE TRUE    2    TRUE\n",
      "\n",
      "Absolute minimum support count: 1484 \n",
      "\n",
      "set item appearances ...[1 item(s)] done [0.00s].\n",
      "set transactions ...[52703 item(s), 1484705 transaction(s)] done [9.61s].\n",
      "sorting and recoding items ... [1708 item(s)] done [0.20s].\n",
      "creating transaction tree ... done [1.58s].\n",
      "checking subsets of size 1 2 done [0.05s].\n",
      "writing ... [1 rule(s)] done [0.00s].\n",
      "creating S4 object  ... done [0.32s].\n",
      "[1] \"Customers who bought [** Apples **], Also Bought: \"\n",
      "[1] \"[-- Clementines --]\"\n"
     ]
    },
    {
     "data": {
      "text/html": [
       "'Clementines'"
      ],
      "text/latex": [
       "'Clementines'"
      ],
      "text/markdown": [
       "'Clementines'"
      ],
      "text/plain": [
       "[1] \"Clementines\""
      ]
     },
     "metadata": {},
     "output_type": "display_data"
    }
   ],
   "source": [
    "recommend_similar_products_v2(\"Apples\")"
   ]
  },
  {
   "cell_type": "code",
   "execution_count": 89,
   "metadata": {},
   "outputs": [
    {
     "name": "stdout",
     "output_type": "stream",
     "text": [
      "Apriori\n",
      "\n",
      "Parameter specification:\n",
      " confidence minval smax arem  aval originalSupport maxtime support minlen\n",
      "        0.2    0.1    1 none FALSE            TRUE       5   0.001      1\n",
      " maxlen target   ext\n",
      "     10  rules FALSE\n",
      "\n",
      "Algorithmic control:\n",
      " filter tree heap memopt load sort verbose\n",
      "    0.1 TRUE TRUE  FALSE TRUE    2    TRUE\n",
      "\n",
      "Absolute minimum support count: 1484 \n",
      "\n",
      "set item appearances ...[1 item(s)] done [0.00s].\n",
      "set transactions ...[163536 item(s), 1484705 transaction(s)] done [10.94s].\n",
      "sorting and recoding items ... [1616 item(s)] done [0.22s].\n",
      "creating transaction tree ... done [1.63s].\n",
      "checking subsets of size 1 2 done [0.10s].\n",
      "writing ... [1 rule(s)] done [0.00s].\n",
      "creating S4 object  ... done [0.31s].\n",
      "[1] \"Customers who bought [** Organic Yellow Squash **], Also Bought: \"\n",
      "[1] \"[-- Organic Zucchini --]\"\n"
     ]
    },
    {
     "data": {
      "text/html": [
       "'Organic Zucchini'"
      ],
      "text/latex": [
       "'Organic Zucchini'"
      ],
      "text/markdown": [
       "'Organic Zucchini'"
      ],
      "text/plain": [
       "[1] \"Organic Zucchini\""
      ]
     },
     "metadata": {},
     "output_type": "display_data"
    }
   ],
   "source": [
    "recommend_similar_products_v2(\"Organic Yellow Squash\")\n",
    "\n"
   ]
  },
  {
   "cell_type": "code",
   "execution_count": 91,
   "metadata": {},
   "outputs": [
    {
     "name": "stdout",
     "output_type": "stream",
     "text": [
      "Apriori\n",
      "\n",
      "Parameter specification:\n",
      " confidence minval smax arem  aval originalSupport maxtime support minlen\n",
      "        0.2    0.1    1 none FALSE            TRUE       5   0.001      1\n",
      " maxlen target   ext\n",
      "     10  rules FALSE\n",
      "\n",
      "Algorithmic control:\n",
      " filter tree heap memopt load sort verbose\n",
      "    0.1 TRUE TRUE  FALSE TRUE    2    TRUE\n",
      "\n",
      "Absolute minimum support count: 1484 \n",
      "\n",
      "set item appearances ...[1 item(s)] done [0.00s].\n",
      "set transactions ...[163536 item(s), 1484705 transaction(s)] done [10.71s].\n",
      "sorting and recoding items ... [1616 item(s)] done [0.25s].\n",
      "creating transaction tree ... done [1.91s].\n",
      "checking subsets of size 1 2 done [0.14s].\n",
      "writing ... [3 rule(s)] done [0.00s].\n",
      "creating S4 object  ... done [0.37s].\n",
      "[1] \"Customers who bought [** Nonfat Icelandic Style Strawberry Yogurt **], Also Bought: \"\n",
      "[1] \"[-- Non Fat Raspberry Yogurt --]\"                     \n",
      "[2] \"[-- Vanilla Skyr Nonfat Yogurt --]\"                   \n",
      "[3] \"[-- Icelandic Style Skyr Blueberry Non-fat Yogurt --]\"\n"
     ]
    },
    {
     "data": {
      "text/html": [
       "<ol class=list-inline>\n",
       "\t<li>'Non Fat Raspberry Yogurt'</li>\n",
       "\t<li>'Vanilla Skyr Nonfat Yogurt'</li>\n",
       "\t<li>'Icelandic Style Skyr Blueberry Non-fat Yogurt'</li>\n",
       "</ol>\n"
      ],
      "text/latex": [
       "\\begin{enumerate*}\n",
       "\\item 'Non Fat Raspberry Yogurt'\n",
       "\\item 'Vanilla Skyr Nonfat Yogurt'\n",
       "\\item 'Icelandic Style Skyr Blueberry Non-fat Yogurt'\n",
       "\\end{enumerate*}\n"
      ],
      "text/markdown": [
       "1. 'Non Fat Raspberry Yogurt'\n",
       "2. 'Vanilla Skyr Nonfat Yogurt'\n",
       "3. 'Icelandic Style Skyr Blueberry Non-fat Yogurt'\n",
       "\n",
       "\n"
      ],
      "text/plain": [
       "[1] \"Non Fat Raspberry Yogurt\"                     \n",
       "[2] \"Vanilla Skyr Nonfat Yogurt\"                   \n",
       "[3] \"Icelandic Style Skyr Blueberry Non-fat Yogurt\""
      ]
     },
     "metadata": {},
     "output_type": "display_data"
    }
   ],
   "source": [
    "recommend_similar_products_v2(\"Nonfat Icelandic Style Strawberry Yogurt\")"
   ]
  }
 ],
 "metadata": {
  "kernelspec": {
   "display_name": "R",
   "language": "R",
   "name": "ir"
  },
  "language_info": {
   "codemirror_mode": "r",
   "file_extension": ".r",
   "mimetype": "text/x-r-source",
   "name": "R",
   "pygments_lexer": "r",
   "version": "3.5.1"
  }
 },
 "nbformat": 4,
 "nbformat_minor": 2
}
